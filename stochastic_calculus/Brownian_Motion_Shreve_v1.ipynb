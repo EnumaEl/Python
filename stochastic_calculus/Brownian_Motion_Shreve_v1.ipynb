{
 "cells": [
  {
   "attachments": {},
   "cell_type": "markdown",
   "metadata": {},
   "source": [
    "#### 1. Import libraries"
   ]
  },
  {
   "cell_type": "code",
   "execution_count": 2,
   "metadata": {},
   "outputs": [],
   "source": [
    "import math\n",
    "import itertools\n",
    "import numpy as np \n",
    "import scipy.stats as stats\n",
    "import matplotlib.pyplot as plt"
   ]
  },
  {
   "attachments": {},
   "cell_type": "markdown",
   "metadata": {},
   "source": [
    "#### 2. Symmetric Random Walk"
   ]
  },
  {
   "attachments": {},
   "cell_type": "markdown",
   "metadata": {},
   "source": [
    "##### 2.1 Basic Parameters"
   ]
  },
  {
   "cell_type": "code",
   "execution_count": 3,
   "metadata": {},
   "outputs": [],
   "source": [
    "M = 10 # number of simulations \n",
    "t = 10 # time"
   ]
  },
  {
   "attachments": {},
   "cell_type": "markdown",
   "metadata": {},
   "source": [
    "##### 2.1 SRW simulation"
   ]
  },
  {
   "cell_type": "code",
   "execution_count": 19,
   "metadata": {},
   "outputs": [],
   "source": [
    "random_walk = [-1, 1] # Toss T = -1; H = 1\n",
    "steps = np.random.choice(random_walk, size = (M,t)).T # generate array and takes randomly [-1, 1] size = 100 (M * t)\n",
    "origin = np.zeros((1, M)) # M0 = 0 from Symmetric Random Walk rule\n",
    "rw_paths = np.concatenate([origin, steps]).cumsum(axis=0) # Create path   "
   ]
  },
  {
   "cell_type": "code",
   "execution_count": 41,
   "metadata": {},
   "outputs": [
    {
     "name": "stdout",
     "output_type": "stream",
     "text": [
      "[ 0.  1. -1.  1.  1.  1. -1. -1. -1.  1.  1.]\n",
      "[0. 1. 0. 1. 2. 3. 2. 1. 0. 1. 2.]\n"
     ]
    }
   ],
   "source": [
    "#Test sample\n",
    "print(np.concatenate([origin, steps])[:,0])\n",
    "print(np.concatenate([origin, steps])[:,0].cumsum(axis=0))  "
   ]
  },
  {
   "attachments": {},
   "cell_type": "markdown",
   "metadata": {},
   "source": [
    "##### 2.2 SRW simulation plot"
   ]
  },
  {
   "cell_type": "code",
   "execution_count": 42,
   "metadata": {},
   "outputs": [
    {
     "data": {
      "image/png": "[encoded data removed]",
      "text/plain": [
       "<Figure size 432x288 with 1 Axes>"
      ]
     },
     "metadata": {
      "needs_background": "light"
     },
     "output_type": "display_data"
    }
   ],
   "source": [
    "plt.plot(rw_paths)\n",
    "plt.xlabel(\"Years (t)\")\n",
    "plt.xlabel(\"Move\")\n",
    "plt.show()"
   ]
  },
  {
   "cell_type": "code",
   "execution_count": null,
   "metadata": {},
   "outputs": [],
   "source": []
  }
 ],
 "metadata": {
  "kernelspec": {
   "display_name": "Python 3.9.7 ('base')",
   "language": "python",
   "name": "python3"
  },
  "language_info": {
   "codemirror_mode": {
    "name": "ipython",
    "version": 3
   },
   "file_extension": ".py",
   "mimetype": "text/x-python",
   "name": "python",
   "nbconvert_exporter": "python",
   "pygments_lexer": "ipython3",
   "version": "3.9.7"
  },
  "orig_nbformat": 4,
  "vscode": {
   "interpreter": {
    "hash": "98d12b898195ec7975394ed779241d2b48abdb50eebc446b0a30bd95d9fa0dfb"
   }
  }
 },
 "nbformat": 4,
 "nbformat_minor": 2
}
