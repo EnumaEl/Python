{
 "cells": [
  {
   "cell_type": "markdown",
   "metadata": {},
   "source": [
    "### 1.Preparing steps"
   ]
  },
  {
   "cell_type": "markdown",
   "metadata": {},
   "source": [
    "##### Import libs"
   ]
  },
  {
   "cell_type": "code",
   "execution_count": null,
   "metadata": {},
   "outputs": [],
   "source": [
    "import pandas as pd\n",
    "import numpy as np \n",
    "import os\n",
    "import seaborn as sns\n",
    "import matplotlib.pyplot as plt\n",
    "from sklearn.model_selection import StratifiedKFold\n",
    "from sklearn.svm import SVC\n",
    "from sklearn.tree import DecisionTreeClassifier, ExtraTreeClassifier\n",
    "from sklearn.ensemble import AdaBoostClassifier, RandomForestClassifier, GradientBoostingClassifier\n",
    "from sklearn.neural_network import MLPClassifier\n",
    "from sklearn.neighbors import KNeighborsClassifier\n",
    "from sklearn.linear_model import LogisticRegression\n",
    "from sklearn.discriminant_analysis import LinearDiscriminantAnalysis\n",
    "from sklearn.model_selection import cross_val_score\n",
    "from sklearn.model_selection import GridSearchCV\n",
    "from sklearn.model_selection import learning_curve\n",
    "from sklearn.ensemble import VotingClassifier"
   ]
  },
  {
   "cell_type": "code",
   "execution_count": 2,
   "metadata": {},
   "outputs": [],
   "source": [
    "def warn(*args, **kwargs):\n",
    "    pass\n",
    "import warnings\n",
    "warnings.warn = warn"
   ]
  },
  {
   "cell_type": "markdown",
   "metadata": {},
   "source": [
    "##### Load data"
   ]
  },
  {
   "cell_type": "code",
   "execution_count": 3,
   "metadata": {},
   "outputs": [],
   "source": [
    "data_path = ['C:/kaggle projects/Titanic - Machine Learning from Disaster']\n",
    "train_data = os.sep.join(data_path + ['train.csv'])\n",
    "test_data = os.sep.join(data_path + ['test.csv'])\n",
    "train_orig = pd.read_csv(train_data, sep = ',')\n",
    "test_orig = pd.read_csv(test_data, sep = ',')"
   ]
  },
  {
   "cell_type": "code",
   "execution_count": 5,
   "metadata": {},
   "outputs": [
    {
     "name": "stdout",
     "output_type": "stream",
     "text": [
      "(891, 11)\n",
      "(418, 10)\n"
     ]
    }
   ],
   "source": [
    "trian_ID = train_orig['PassengerId']\n",
    "test_ID = test_orig['PassengerId']\n",
    "\n",
    "train = train_orig.drop('PassengerId', axis = 1)\n",
    "test = test_orig.drop('PassengerId', axis = 1)\n",
    "\n",
    "print(train.shape)\n",
    "print(test.shape)"
   ]
  },
  {
   "cell_type": "code",
   "execution_count": 6,
   "metadata": {},
   "outputs": [],
   "source": [
    "n_train = train.shape[0]\n",
    "n_test = test.shape[0]\n",
    "y_train = train['Survived']\n",
    "df = pd.concat((train, test)).reset_index(drop = True)"
   ]
  },
  {
   "cell_type": "markdown",
   "metadata": {},
   "source": [
    "### 2.EDA"
   ]
  },
  {
   "cell_type": "code",
   "execution_count": 7,
   "metadata": {},
   "outputs": [
    {
     "data": {
      "text/plain": [
       "0    549\n",
       "1    342\n",
       "Name: Survived, dtype: int64"
      ]
     },
     "execution_count": 7,
     "metadata": {},
     "output_type": "execute_result"
    }
   ],
   "source": [
    "train_orig['Survived'].value_counts()"
   ]
  },
  {
   "cell_type": "code",
   "execution_count": 9,
   "metadata": {},
   "outputs": [
    {
     "data": {
      "text/html": [
       "<div>\n",
       "<style scoped>\n",
       "    .dataframe tbody tr th:only-of-type {\n",
       "        vertical-align: middle;\n",
       "    }\n",
       "\n",
       "    .dataframe tbody tr th {\n",
       "        vertical-align: top;\n",
       "    }\n",
       "\n",
       "    .dataframe thead th {\n",
       "        text-align: right;\n",
       "    }\n",
       "</style>\n",
       "<table border=\"1\" class=\"dataframe\">\n",
       "  <thead>\n",
       "    <tr style=\"text-align: right;\">\n",
       "      <th></th>\n",
       "      <th>count</th>\n",
       "      <th>mean</th>\n",
       "      <th>std</th>\n",
       "      <th>min</th>\n",
       "      <th>25%</th>\n",
       "      <th>50%</th>\n",
       "      <th>75%</th>\n",
       "      <th>max</th>\n",
       "    </tr>\n",
       "  </thead>\n",
       "  <tbody>\n",
       "    <tr>\n",
       "      <th>Survived</th>\n",
       "      <td>891.0</td>\n",
       "      <td>0.383838</td>\n",
       "      <td>0.486592</td>\n",
       "      <td>0.00</td>\n",
       "      <td>0.0000</td>\n",
       "      <td>0.0000</td>\n",
       "      <td>1.000</td>\n",
       "      <td>1.0000</td>\n",
       "    </tr>\n",
       "    <tr>\n",
       "      <th>Pclass</th>\n",
       "      <td>1309.0</td>\n",
       "      <td>2.294882</td>\n",
       "      <td>0.837836</td>\n",
       "      <td>1.00</td>\n",
       "      <td>2.0000</td>\n",
       "      <td>3.0000</td>\n",
       "      <td>3.000</td>\n",
       "      <td>3.0000</td>\n",
       "    </tr>\n",
       "    <tr>\n",
       "      <th>Age</th>\n",
       "      <td>1046.0</td>\n",
       "      <td>29.881138</td>\n",
       "      <td>14.413493</td>\n",
       "      <td>0.17</td>\n",
       "      <td>21.0000</td>\n",
       "      <td>28.0000</td>\n",
       "      <td>39.000</td>\n",
       "      <td>80.0000</td>\n",
       "    </tr>\n",
       "    <tr>\n",
       "      <th>SibSp</th>\n",
       "      <td>1309.0</td>\n",
       "      <td>0.498854</td>\n",
       "      <td>1.041658</td>\n",
       "      <td>0.00</td>\n",
       "      <td>0.0000</td>\n",
       "      <td>0.0000</td>\n",
       "      <td>1.000</td>\n",
       "      <td>8.0000</td>\n",
       "    </tr>\n",
       "    <tr>\n",
       "      <th>Parch</th>\n",
       "      <td>1309.0</td>\n",
       "      <td>0.385027</td>\n",
       "      <td>0.865560</td>\n",
       "      <td>0.00</td>\n",
       "      <td>0.0000</td>\n",
       "      <td>0.0000</td>\n",
       "      <td>0.000</td>\n",
       "      <td>9.0000</td>\n",
       "    </tr>\n",
       "    <tr>\n",
       "      <th>Fare</th>\n",
       "      <td>1308.0</td>\n",
       "      <td>33.295479</td>\n",
       "      <td>51.758668</td>\n",
       "      <td>0.00</td>\n",
       "      <td>7.8958</td>\n",
       "      <td>14.4542</td>\n",
       "      <td>31.275</td>\n",
       "      <td>512.3292</td>\n",
       "    </tr>\n",
       "  </tbody>\n",
       "</table>\n",
       "</div>"
      ],
      "text/plain": [
       "           count       mean        std   min      25%      50%     75%  \\\n",
       "Survived   891.0   0.383838   0.486592  0.00   0.0000   0.0000   1.000   \n",
       "Pclass    1309.0   2.294882   0.837836  1.00   2.0000   3.0000   3.000   \n",
       "Age       1046.0  29.881138  14.413493  0.17  21.0000  28.0000  39.000   \n",
       "SibSp     1309.0   0.498854   1.041658  0.00   0.0000   0.0000   1.000   \n",
       "Parch     1309.0   0.385027   0.865560  0.00   0.0000   0.0000   0.000   \n",
       "Fare      1308.0  33.295479  51.758668  0.00   7.8958  14.4542  31.275   \n",
       "\n",
       "               max  \n",
       "Survived    1.0000  \n",
       "Pclass      3.0000  \n",
       "Age        80.0000  \n",
       "SibSp       8.0000  \n",
       "Parch       9.0000  \n",
       "Fare      512.3292  "
      ]
     },
     "execution_count": 9,
     "metadata": {},
     "output_type": "execute_result"
    }
   ],
   "source": [
    "df.describe().T"
   ]
  },
  {
   "cell_type": "code",
   "execution_count": 10,
   "metadata": {},
   "outputs": [
    {
     "data": {
      "text/plain": [
       "Survived    float64\n",
       "Pclass        int64\n",
       "Name         object\n",
       "Sex          object\n",
       "Age         float64\n",
       "SibSp         int64\n",
       "Parch         int64\n",
       "Ticket       object\n",
       "Fare        float64\n",
       "Cabin        object\n",
       "Embarked     object\n",
       "dtype: object"
      ]
     },
     "execution_count": 10,
     "metadata": {},
     "output_type": "execute_result"
    }
   ],
   "source": [
    "df.dtypes"
   ]
  },
  {
   "cell_type": "code",
   "execution_count": 11,
   "metadata": {},
   "outputs": [
    {
     "name": "stdout",
     "output_type": "stream",
     "text": [
      "<class 'pandas.core.frame.DataFrame'>\n",
      "RangeIndex: 1309 entries, 0 to 1308\n",
      "Data columns (total 11 columns):\n",
      " #   Column    Non-Null Count  Dtype  \n",
      "---  ------    --------------  -----  \n",
      " 0   Survived  891 non-null    float64\n",
      " 1   Pclass    1309 non-null   int64  \n",
      " 2   Name      1309 non-null   object \n",
      " 3   Sex       1309 non-null   object \n",
      " 4   Age       1046 non-null   float64\n",
      " 5   SibSp     1309 non-null   int64  \n",
      " 6   Parch     1309 non-null   int64  \n",
      " 7   Ticket    1309 non-null   object \n",
      " 8   Fare      1308 non-null   float64\n",
      " 9   Cabin     295 non-null    object \n",
      " 10  Embarked  1307 non-null   object \n",
      "dtypes: float64(3), int64(3), object(5)\n",
      "memory usage: 112.6+ KB\n"
     ]
    }
   ],
   "source": [
    "df.info()"
   ]
  },
  {
   "cell_type": "markdown",
   "metadata": {},
   "source": [
    "##### Correlation checking"
   ]
  },
  {
   "cell_type": "code",
   "execution_count": 12,
   "metadata": {},
   "outputs": [],
   "source": [
    "num_col = df.select_dtypes(exclude=['object']).columns"
   ]
  },
  {
   "cell_type": "code",
   "execution_count": 13,
   "metadata": {},
   "outputs": [
    {
     "data": {
      "text/plain": [
       "<AxesSubplot:>"
      ]
     },
     "execution_count": 13,
     "metadata": {},
     "output_type": "execute_result"
    },
    {
     "data": {
      "image/png": "[encoded data removed]",
      "text/plain": [
       "<Figure size 432x288 with 2 Axes>"
      ]
     },
     "metadata": {},
     "output_type": "display_data"
    }
   ],
   "source": [
    "correlation = df[num_col].corr()\n",
    "sns.set_style('darkgrid')\n",
    "sns.heatmap(correlation, cmap = 'Blues', annot = True)"
   ]
  },
  {
   "cell_type": "code",
   "execution_count": 14,
   "metadata": {},
   "outputs": [
    {
     "data": {
      "image/png": "[encoded data removed]",
      "text/plain": [
       "<Figure size 432x432 with 1 Axes>"
      ]
     },
     "metadata": {},
     "output_type": "display_data"
    }
   ],
   "source": [
    "g = sns.catplot(x = 'Pclass', y = 'Survived', data = train, kind = 'bar', size = 6., palette='muted')\n",
    "g.despine(left = True)\n",
    "g = g.set_ylabels('survival probability')"
   ]
  },
  {
   "cell_type": "code",
   "execution_count": 15,
   "metadata": {},
   "outputs": [
    {
     "data": {
      "text/plain": [
       "1309"
      ]
     },
     "execution_count": 15,
     "metadata": {},
     "output_type": "execute_result"
    }
   ],
   "source": [
    "df['Pclass'].value_counts().sum()"
   ]
  },
  {
   "cell_type": "code",
   "execution_count": 16,
   "metadata": {},
   "outputs": [
    {
     "data": {
      "image/png": "[encoded data removed]",
      "text/plain": [
       "<Figure size 432x216 with 2 Axes>"
      ]
     },
     "metadata": {},
     "output_type": "display_data"
    }
   ],
   "source": [
    "g = sns.FacetGrid(train, col='Survived')\n",
    "g = g.map(sns.distplot, 'Age')\n"
   ]
  },
  {
   "cell_type": "code",
   "execution_count": 17,
   "metadata": {},
   "outputs": [
    {
     "data": {
      "text/plain": [
       "0.40767455974362266"
      ]
     },
     "execution_count": 17,
     "metadata": {},
     "output_type": "execute_result"
    }
   ],
   "source": [
    "df['Age'].skew()"
   ]
  },
  {
   "cell_type": "code",
   "execution_count": 18,
   "metadata": {},
   "outputs": [
    {
     "data": {
      "text/plain": [
       "<AxesSubplot:ylabel='Age'>"
      ]
     },
     "execution_count": 18,
     "metadata": {},
     "output_type": "execute_result"
    },
    {
     "data": {
      "image/png": "[encoded data removed]",
      "text/plain": [
       "<Figure size 432x288 with 1 Axes>"
      ]
     },
     "metadata": {},
     "output_type": "display_data"
    }
   ],
   "source": [
    "sns.boxplot(y = df['Age'])"
   ]
  },
  {
   "cell_type": "code",
   "execution_count": 19,
   "metadata": {},
   "outputs": [
    {
     "data": {
      "text/html": [
       "<div>\n",
       "<style scoped>\n",
       "    .dataframe tbody tr th:only-of-type {\n",
       "        vertical-align: middle;\n",
       "    }\n",
       "\n",
       "    .dataframe tbody tr th {\n",
       "        vertical-align: top;\n",
       "    }\n",
       "\n",
       "    .dataframe thead th {\n",
       "        text-align: right;\n",
       "    }\n",
       "</style>\n",
       "<table border=\"1\" class=\"dataframe\">\n",
       "  <thead>\n",
       "    <tr style=\"text-align: right;\">\n",
       "      <th></th>\n",
       "      <th>Survived</th>\n",
       "      <th>Pclass</th>\n",
       "      <th>Name</th>\n",
       "      <th>Sex</th>\n",
       "      <th>Age</th>\n",
       "      <th>SibSp</th>\n",
       "      <th>Parch</th>\n",
       "      <th>Ticket</th>\n",
       "      <th>Fare</th>\n",
       "      <th>Cabin</th>\n",
       "      <th>Embarked</th>\n",
       "    </tr>\n",
       "  </thead>\n",
       "  <tbody>\n",
       "    <tr>\n",
       "      <th>96</th>\n",
       "      <td>0</td>\n",
       "      <td>1</td>\n",
       "      <td>Goldschmidt, Mr. George B</td>\n",
       "      <td>male</td>\n",
       "      <td>71.0</td>\n",
       "      <td>0</td>\n",
       "      <td>0</td>\n",
       "      <td>PC 17754</td>\n",
       "      <td>34.6542</td>\n",
       "      <td>A5</td>\n",
       "      <td>C</td>\n",
       "    </tr>\n",
       "    <tr>\n",
       "      <th>116</th>\n",
       "      <td>0</td>\n",
       "      <td>3</td>\n",
       "      <td>Connors, Mr. Patrick</td>\n",
       "      <td>male</td>\n",
       "      <td>70.5</td>\n",
       "      <td>0</td>\n",
       "      <td>0</td>\n",
       "      <td>370369</td>\n",
       "      <td>7.7500</td>\n",
       "      <td>NaN</td>\n",
       "      <td>Q</td>\n",
       "    </tr>\n",
       "    <tr>\n",
       "      <th>493</th>\n",
       "      <td>0</td>\n",
       "      <td>1</td>\n",
       "      <td>Artagaveytia, Mr. Ramon</td>\n",
       "      <td>male</td>\n",
       "      <td>71.0</td>\n",
       "      <td>0</td>\n",
       "      <td>0</td>\n",
       "      <td>PC 17609</td>\n",
       "      <td>49.5042</td>\n",
       "      <td>NaN</td>\n",
       "      <td>C</td>\n",
       "    </tr>\n",
       "    <tr>\n",
       "      <th>630</th>\n",
       "      <td>1</td>\n",
       "      <td>1</td>\n",
       "      <td>Barkworth, Mr. Algernon Henry Wilson</td>\n",
       "      <td>male</td>\n",
       "      <td>80.0</td>\n",
       "      <td>0</td>\n",
       "      <td>0</td>\n",
       "      <td>27042</td>\n",
       "      <td>30.0000</td>\n",
       "      <td>A23</td>\n",
       "      <td>S</td>\n",
       "    </tr>\n",
       "    <tr>\n",
       "      <th>851</th>\n",
       "      <td>0</td>\n",
       "      <td>3</td>\n",
       "      <td>Svensson, Mr. Johan</td>\n",
       "      <td>male</td>\n",
       "      <td>74.0</td>\n",
       "      <td>0</td>\n",
       "      <td>0</td>\n",
       "      <td>347060</td>\n",
       "      <td>7.7750</td>\n",
       "      <td>NaN</td>\n",
       "      <td>S</td>\n",
       "    </tr>\n",
       "  </tbody>\n",
       "</table>\n",
       "</div>"
      ],
      "text/plain": [
       "     Survived  Pclass                                  Name   Sex   Age  \\\n",
       "96          0       1             Goldschmidt, Mr. George B  male  71.0   \n",
       "116         0       3                  Connors, Mr. Patrick  male  70.5   \n",
       "493         0       1               Artagaveytia, Mr. Ramon  male  71.0   \n",
       "630         1       1  Barkworth, Mr. Algernon Henry Wilson  male  80.0   \n",
       "851         0       3                   Svensson, Mr. Johan  male  74.0   \n",
       "\n",
       "     SibSp  Parch    Ticket     Fare Cabin Embarked  \n",
       "96       0      0  PC 17754  34.6542    A5        C  \n",
       "116      0      0    370369   7.7500   NaN        Q  \n",
       "493      0      0  PC 17609  49.5042   NaN        C  \n",
       "630      0      0     27042  30.0000   A23        S  \n",
       "851      0      0    347060   7.7750   NaN        S  "
      ]
     },
     "execution_count": 19,
     "metadata": {},
     "output_type": "execute_result"
    }
   ],
   "source": [
    "train[train.Age > 70]"
   ]
  },
  {
   "cell_type": "code",
   "execution_count": 20,
   "metadata": {},
   "outputs": [
    {
     "data": {
      "text/plain": [
       "count    1046.000000\n",
       "mean       29.881138\n",
       "std        14.413493\n",
       "min         0.170000\n",
       "25%        21.000000\n",
       "50%        28.000000\n",
       "75%        39.000000\n",
       "max        80.000000\n",
       "Name: Age, dtype: float64"
      ]
     },
     "execution_count": 20,
     "metadata": {},
     "output_type": "execute_result"
    }
   ],
   "source": [
    "df['Age'].describe()"
   ]
  },
  {
   "cell_type": "code",
   "execution_count": 21,
   "metadata": {},
   "outputs": [
    {
     "data": {
      "text/plain": [
       "Index(['Survived', 'Pclass', 'Age', 'SibSp', 'Parch', 'Fare'], dtype='object')"
      ]
     },
     "execution_count": 21,
     "metadata": {},
     "output_type": "execute_result"
    }
   ],
   "source": [
    "num_col"
   ]
  },
  {
   "cell_type": "code",
   "execution_count": 22,
   "metadata": {},
   "outputs": [
    {
     "data": {
      "image/png": "[encoded data removed]",
      "text/plain": [
       "<Figure size 360x360 with 1 Axes>"
      ]
     },
     "metadata": {},
     "output_type": "display_data"
    },
    {
     "data": {
      "image/png": "[encoded data removed]",
      "text/plain": [
       "<Figure size 401.625x360 with 1 Axes>"
      ]
     },
     "metadata": {},
     "output_type": "display_data"
    },
    {
     "data": {
      "image/png": "[encoded data removed]",
      "text/plain": [
       "<Figure size 360x360 with 1 Axes>"
      ]
     },
     "metadata": {},
     "output_type": "display_data"
    },
    {
     "data": {
      "image/png": "[encoded data removed]",
      "text/plain": [
       "<Figure size 360x360 with 1 Axes>"
      ]
     },
     "metadata": {},
     "output_type": "display_data"
    }
   ],
   "source": [
    "g = sns.factorplot(y = 'Age', x = 'Sex', data = df, kind = 'box')\n",
    "g = sns.factorplot(y = 'Age', x = 'Sex', hue = 'Pclass', data = df, kind = 'box')\n",
    "g = sns.factorplot(y = 'Age', x = 'SibSp', data = df, kind = 'box')\n",
    "g = sns.factorplot(y = 'Age', x = 'Parch', data = df, kind = 'box')"
   ]
  },
  {
   "cell_type": "code",
   "execution_count": 23,
   "metadata": {},
   "outputs": [],
   "source": [
    "df['Sex'] = df['Sex'].map({'male':0, 'female':1})"
   ]
  },
  {
   "cell_type": "code",
   "execution_count": 24,
   "metadata": {},
   "outputs": [
    {
     "data": {
      "text/plain": [
       "<AxesSubplot:>"
      ]
     },
     "execution_count": 24,
     "metadata": {},
     "output_type": "execute_result"
    },
    {
     "data": {
      "image/png": "[encoded data removed]",
      "text/plain": [
       "<Figure size 432x288 with 2 Axes>"
      ]
     },
     "metadata": {},
     "output_type": "display_data"
    }
   ],
   "source": [
    "\n",
    "correlation = df[['Age', 'Pclass', 'SibSp', 'Parch', 'Sex']].corr()\n",
    "sns.set_style('darkgrid')\n",
    "sns.heatmap(correlation, cmap = 'Blues', annot = True)\n"
   ]
  },
  {
   "cell_type": "markdown",
   "metadata": {},
   "source": [
    "##### Data manipulating"
   ]
  },
  {
   "cell_type": "code",
   "execution_count": 25,
   "metadata": {},
   "outputs": [],
   "source": [
    "index_null_age = list(df[df['Age'].isnull()].index)"
   ]
  },
  {
   "cell_type": "code",
   "execution_count": 26,
   "metadata": {},
   "outputs": [],
   "source": [
    "for i in index_null_age:\n",
    "    age_med = df['Age'].median()\n",
    "    age_pred = df['Age'][(df['SibSp'] == df.iloc[i]['SibSp']) & (df['Parch'] == df.iloc[i][\"Parch\"]) & (df['Pclass'] == df.iloc[i][\"Pclass\"])].median()\n",
    "    if not np.isnan(age_pred):\n",
    "        df['Age'].iloc[i] = age_pred\n",
    "    else:\n",
    "        df['Age'].iloc[i] = age_med   \n",
    " \n"
   ]
  },
  {
   "cell_type": "code",
   "execution_count": 27,
   "metadata": {},
   "outputs": [
    {
     "data": {
      "image/png": "[encoded data removed]",
      "text/plain": [
       "<Figure size 360x360 with 1 Axes>"
      ]
     },
     "metadata": {},
     "output_type": "display_data"
    }
   ],
   "source": [
    "g = sns.factorplot(x=\"Survived\", y = \"Age\",data = train, kind=\"violin\")"
   ]
  },
  {
   "cell_type": "code",
   "execution_count": 28,
   "metadata": {},
   "outputs": [
    {
     "data": {
      "text/plain": [
       "1      C85\n",
       "3     C123\n",
       "6      E46\n",
       "10      G6\n",
       "11    C103\n",
       "Name: Cabin, dtype: object"
      ]
     },
     "execution_count": 28,
     "metadata": {},
     "output_type": "execute_result"
    }
   ],
   "source": [
    "df['Cabin'][df['Cabin'].notnull()].head()"
   ]
  },
  {
   "cell_type": "code",
   "execution_count": 29,
   "metadata": {},
   "outputs": [
    {
     "data": {
      "text/plain": [
       "count             295\n",
       "unique            186\n",
       "top       C23 C25 C27\n",
       "freq                6\n",
       "Name: Cabin, dtype: object"
      ]
     },
     "execution_count": 29,
     "metadata": {},
     "output_type": "execute_result"
    }
   ],
   "source": [
    "df['Cabin'].describe()"
   ]
  },
  {
   "cell_type": "code",
   "execution_count": 30,
   "metadata": {},
   "outputs": [],
   "source": [
    "df['Cabin'] = pd.Series(i[0] if not pd.isnull(i) else 'X' for i in df['Cabin'])"
   ]
  },
  {
   "cell_type": "code",
   "execution_count": 31,
   "metadata": {},
   "outputs": [
    {
     "data": {
      "image/png": "[encoded data removed]",
      "text/plain": [
       "<Figure size 360x360 with 1 Axes>"
      ]
     },
     "metadata": {},
     "output_type": "display_data"
    }
   ],
   "source": [
    "sns.set(rc={'figure.figsize':(11.7,8.27)})\n",
    "g = sns.factorplot(x = 'Cabin', y = 'Survived', data = df, kind = 'bar')"
   ]
  },
  {
   "cell_type": "code",
   "execution_count": 32,
   "metadata": {},
   "outputs": [
    {
     "name": "stdout",
     "output_type": "stream",
     "text": [
      "<class 'pandas.core.frame.DataFrame'>\n",
      "RangeIndex: 1309 entries, 0 to 1308\n",
      "Data columns (total 11 columns):\n",
      " #   Column    Non-Null Count  Dtype  \n",
      "---  ------    --------------  -----  \n",
      " 0   Survived  891 non-null    float64\n",
      " 1   Pclass    1309 non-null   int64  \n",
      " 2   Name      1309 non-null   object \n",
      " 3   Sex       1309 non-null   int64  \n",
      " 4   Age       1309 non-null   float64\n",
      " 5   SibSp     1309 non-null   int64  \n",
      " 6   Parch     1309 non-null   int64  \n",
      " 7   Ticket    1309 non-null   object \n",
      " 8   Fare      1308 non-null   float64\n",
      " 9   Cabin     1309 non-null   object \n",
      " 10  Embarked  1307 non-null   object \n",
      "dtypes: float64(3), int64(4), object(4)\n",
      "memory usage: 112.6+ KB\n"
     ]
    }
   ],
   "source": [
    "df.info()"
   ]
  },
  {
   "cell_type": "code",
   "execution_count": 33,
   "metadata": {},
   "outputs": [
    {
     "data": {
      "text/plain": [
       "0         7.2500\n",
       "1        71.2833\n",
       "2         7.9250\n",
       "3        53.1000\n",
       "4         8.0500\n",
       "          ...   \n",
       "1304      8.0500\n",
       "1305    108.9000\n",
       "1306      7.2500\n",
       "1307      8.0500\n",
       "1308     22.3583\n",
       "Name: Fare, Length: 1309, dtype: float64"
      ]
     },
     "execution_count": 33,
     "metadata": {},
     "output_type": "execute_result"
    }
   ],
   "source": [
    "df['Fare']"
   ]
  },
  {
   "cell_type": "code",
   "execution_count": 34,
   "metadata": {},
   "outputs": [],
   "source": [
    "df['Fare'].iloc[1043] = df['Fare'][(df['SibSp'] == df.iloc[1043]['SibSp']) & (df['Parch'] == df.iloc[1043][\"Parch\"]) & (df['Embarked'] == df.iloc[1043][\"Embarked\"]) & (df['Cabin'] == df.iloc[1043][\"Cabin\"]) \n",
    "& (df['Pclass'] == df.iloc[1043][\"Pclass\"])].median()"
   ]
  },
  {
   "cell_type": "code",
   "execution_count": 35,
   "metadata": {},
   "outputs": [
    {
     "data": {
      "text/html": [
       "<div>\n",
       "<style scoped>\n",
       "    .dataframe tbody tr th:only-of-type {\n",
       "        vertical-align: middle;\n",
       "    }\n",
       "\n",
       "    .dataframe tbody tr th {\n",
       "        vertical-align: top;\n",
       "    }\n",
       "\n",
       "    .dataframe thead th {\n",
       "        text-align: right;\n",
       "    }\n",
       "</style>\n",
       "<table border=\"1\" class=\"dataframe\">\n",
       "  <thead>\n",
       "    <tr style=\"text-align: right;\">\n",
       "      <th></th>\n",
       "      <th>Survived</th>\n",
       "      <th>Pclass</th>\n",
       "      <th>Name</th>\n",
       "      <th>Sex</th>\n",
       "      <th>Age</th>\n",
       "      <th>SibSp</th>\n",
       "      <th>Parch</th>\n",
       "      <th>Ticket</th>\n",
       "      <th>Fare</th>\n",
       "      <th>Cabin</th>\n",
       "      <th>Embarked</th>\n",
       "    </tr>\n",
       "  </thead>\n",
       "  <tbody>\n",
       "  </tbody>\n",
       "</table>\n",
       "</div>"
      ],
      "text/plain": [
       "Empty DataFrame\n",
       "Columns: [Survived, Pclass, Name, Sex, Age, SibSp, Parch, Ticket, Fare, Cabin, Embarked]\n",
       "Index: []"
      ]
     },
     "execution_count": 35,
     "metadata": {},
     "output_type": "execute_result"
    }
   ],
   "source": [
    "df[df['Fare'].isnull()]"
   ]
  },
  {
   "cell_type": "code",
   "execution_count": 36,
   "metadata": {},
   "outputs": [
    {
     "name": "stdout",
     "output_type": "stream",
     "text": [
      "<class 'pandas.core.frame.DataFrame'>\n",
      "RangeIndex: 1309 entries, 0 to 1308\n",
      "Data columns (total 11 columns):\n",
      " #   Column    Non-Null Count  Dtype  \n",
      "---  ------    --------------  -----  \n",
      " 0   Survived  891 non-null    float64\n",
      " 1   Pclass    1309 non-null   int64  \n",
      " 2   Name      1309 non-null   object \n",
      " 3   Sex       1309 non-null   int64  \n",
      " 4   Age       1309 non-null   float64\n",
      " 5   SibSp     1309 non-null   int64  \n",
      " 6   Parch     1309 non-null   int64  \n",
      " 7   Ticket    1309 non-null   object \n",
      " 8   Fare      1309 non-null   float64\n",
      " 9   Cabin     1309 non-null   object \n",
      " 10  Embarked  1307 non-null   object \n",
      "dtypes: float64(3), int64(4), object(4)\n",
      "memory usage: 112.6+ KB\n"
     ]
    }
   ],
   "source": [
    "df.info()"
   ]
  },
  {
   "cell_type": "code",
   "execution_count": 37,
   "metadata": {},
   "outputs": [
    {
     "data": {
      "text/html": [
       "<div>\n",
       "<style scoped>\n",
       "    .dataframe tbody tr th:only-of-type {\n",
       "        vertical-align: middle;\n",
       "    }\n",
       "\n",
       "    .dataframe tbody tr th {\n",
       "        vertical-align: top;\n",
       "    }\n",
       "\n",
       "    .dataframe thead th {\n",
       "        text-align: right;\n",
       "    }\n",
       "</style>\n",
       "<table border=\"1\" class=\"dataframe\">\n",
       "  <thead>\n",
       "    <tr style=\"text-align: right;\">\n",
       "      <th></th>\n",
       "      <th>Survived</th>\n",
       "      <th>Pclass</th>\n",
       "      <th>Name</th>\n",
       "      <th>Sex</th>\n",
       "      <th>Age</th>\n",
       "      <th>SibSp</th>\n",
       "      <th>Parch</th>\n",
       "      <th>Ticket</th>\n",
       "      <th>Fare</th>\n",
       "      <th>Cabin</th>\n",
       "      <th>Embarked</th>\n",
       "    </tr>\n",
       "  </thead>\n",
       "  <tbody>\n",
       "    <tr>\n",
       "      <th>61</th>\n",
       "      <td>1.0</td>\n",
       "      <td>1</td>\n",
       "      <td>Icard, Miss. Amelie</td>\n",
       "      <td>1</td>\n",
       "      <td>38.0</td>\n",
       "      <td>0</td>\n",
       "      <td>0</td>\n",
       "      <td>113572</td>\n",
       "      <td>80.0</td>\n",
       "      <td>B</td>\n",
       "      <td>NaN</td>\n",
       "    </tr>\n",
       "    <tr>\n",
       "      <th>829</th>\n",
       "      <td>1.0</td>\n",
       "      <td>1</td>\n",
       "      <td>Stone, Mrs. George Nelson (Martha Evelyn)</td>\n",
       "      <td>1</td>\n",
       "      <td>62.0</td>\n",
       "      <td>0</td>\n",
       "      <td>0</td>\n",
       "      <td>113572</td>\n",
       "      <td>80.0</td>\n",
       "      <td>B</td>\n",
       "      <td>NaN</td>\n",
       "    </tr>\n",
       "  </tbody>\n",
       "</table>\n",
       "</div>"
      ],
      "text/plain": [
       "     Survived  Pclass                                       Name  Sex   Age  \\\n",
       "61        1.0       1                        Icard, Miss. Amelie    1  38.0   \n",
       "829       1.0       1  Stone, Mrs. George Nelson (Martha Evelyn)    1  62.0   \n",
       "\n",
       "     SibSp  Parch  Ticket  Fare Cabin Embarked  \n",
       "61       0      0  113572  80.0     B      NaN  \n",
       "829      0      0  113572  80.0     B      NaN  "
      ]
     },
     "execution_count": 37,
     "metadata": {},
     "output_type": "execute_result"
    }
   ],
   "source": [
    "df[df['Embarked'].isnull()]"
   ]
  },
  {
   "cell_type": "code",
   "execution_count": 38,
   "metadata": {},
   "outputs": [
    {
     "data": {
      "text/plain": [
       "S    914\n",
       "C    270\n",
       "Q    123\n",
       "Name: Embarked, dtype: int64"
      ]
     },
     "execution_count": 38,
     "metadata": {},
     "output_type": "execute_result"
    }
   ],
   "source": [
    "df['Embarked'].value_counts()"
   ]
  },
  {
   "cell_type": "code",
   "execution_count": 39,
   "metadata": {},
   "outputs": [],
   "source": [
    "df['Embarked'] = df['Embarked'].fillna('S')"
   ]
  },
  {
   "cell_type": "code",
   "execution_count": 40,
   "metadata": {},
   "outputs": [
    {
     "name": "stdout",
     "output_type": "stream",
     "text": [
      "<class 'pandas.core.frame.DataFrame'>\n",
      "RangeIndex: 1309 entries, 0 to 1308\n",
      "Data columns (total 11 columns):\n",
      " #   Column    Non-Null Count  Dtype  \n",
      "---  ------    --------------  -----  \n",
      " 0   Survived  891 non-null    float64\n",
      " 1   Pclass    1309 non-null   int64  \n",
      " 2   Name      1309 non-null   object \n",
      " 3   Sex       1309 non-null   int64  \n",
      " 4   Age       1309 non-null   float64\n",
      " 5   SibSp     1309 non-null   int64  \n",
      " 6   Parch     1309 non-null   int64  \n",
      " 7   Ticket    1309 non-null   object \n",
      " 8   Fare      1309 non-null   float64\n",
      " 9   Cabin     1309 non-null   object \n",
      " 10  Embarked  1309 non-null   object \n",
      "dtypes: float64(3), int64(4), object(4)\n",
      "memory usage: 112.6+ KB\n"
     ]
    }
   ],
   "source": [
    "df.info()"
   ]
  },
  {
   "cell_type": "code",
   "execution_count": 41,
   "metadata": {},
   "outputs": [],
   "source": [
    "df = pd.get_dummies(df, columns= ['Cabin'], prefix = 'Cabin')\n",
    "df = pd.get_dummies(df, columns= ['Embarked'], prefix = 'Embarked')"
   ]
  },
  {
   "cell_type": "code",
   "execution_count": 42,
   "metadata": {},
   "outputs": [
    {
     "name": "stdout",
     "output_type": "stream",
     "text": [
      "<class 'pandas.core.frame.DataFrame'>\n",
      "RangeIndex: 1309 entries, 0 to 1308\n",
      "Data columns (total 21 columns):\n",
      " #   Column      Non-Null Count  Dtype  \n",
      "---  ------      --------------  -----  \n",
      " 0   Survived    891 non-null    float64\n",
      " 1   Pclass      1309 non-null   int64  \n",
      " 2   Name        1309 non-null   object \n",
      " 3   Sex         1309 non-null   int64  \n",
      " 4   Age         1309 non-null   float64\n",
      " 5   SibSp       1309 non-null   int64  \n",
      " 6   Parch       1309 non-null   int64  \n",
      " 7   Ticket      1309 non-null   object \n",
      " 8   Fare        1309 non-null   float64\n",
      " 9   Cabin_A     1309 non-null   uint8  \n",
      " 10  Cabin_B     1309 non-null   uint8  \n",
      " 11  Cabin_C     1309 non-null   uint8  \n",
      " 12  Cabin_D     1309 non-null   uint8  \n",
      " 13  Cabin_E     1309 non-null   uint8  \n",
      " 14  Cabin_F     1309 non-null   uint8  \n",
      " 15  Cabin_G     1309 non-null   uint8  \n",
      " 16  Cabin_T     1309 non-null   uint8  \n",
      " 17  Cabin_X     1309 non-null   uint8  \n",
      " 18  Embarked_C  1309 non-null   uint8  \n",
      " 19  Embarked_Q  1309 non-null   uint8  \n",
      " 20  Embarked_S  1309 non-null   uint8  \n",
      "dtypes: float64(3), int64(4), object(2), uint8(12)\n",
      "memory usage: 107.5+ KB\n"
     ]
    }
   ],
   "source": [
    "df.info()"
   ]
  },
  {
   "cell_type": "code",
   "execution_count": 43,
   "metadata": {},
   "outputs": [
    {
     "data": {
      "text/plain": [
       "CA. 2343        11\n",
       "CA 2144          8\n",
       "1601             8\n",
       "PC 17608         7\n",
       "S.O.C. 14879     7\n",
       "                ..\n",
       "113792           1\n",
       "36209            1\n",
       "323592           1\n",
       "315089           1\n",
       "359309           1\n",
       "Name: Ticket, Length: 929, dtype: int64"
      ]
     },
     "execution_count": 43,
     "metadata": {},
     "output_type": "execute_result"
    }
   ],
   "source": [
    "df['Ticket'].value_counts()\n"
   ]
  },
  {
   "cell_type": "code",
   "execution_count": 44,
   "metadata": {},
   "outputs": [],
   "source": [
    "Ticket = []\n",
    "for i in list(df['Ticket']):\n",
    "    if not i.isdigit():\n",
    "        Ticket.append(i.replace('.','').replace('/', '').strip().split(' ')[0])\n",
    "    else: \n",
    "        Ticket.append('X')\n",
    "\n",
    "df['Ticket'] = Ticket\n",
    "\n",
    "\n"
   ]
  },
  {
   "cell_type": "code",
   "execution_count": 45,
   "metadata": {},
   "outputs": [],
   "source": [
    "df = pd.get_dummies(df, columns = ['Ticket'], prefix = 'T')"
   ]
  },
  {
   "cell_type": "code",
   "execution_count": 46,
   "metadata": {},
   "outputs": [
    {
     "name": "stdout",
     "output_type": "stream",
     "text": [
      "<class 'pandas.core.frame.DataFrame'>\n",
      "RangeIndex: 1309 entries, 0 to 1308\n",
      "Data columns (total 57 columns):\n",
      " #   Column      Non-Null Count  Dtype  \n",
      "---  ------      --------------  -----  \n",
      " 0   Survived    891 non-null    float64\n",
      " 1   Pclass      1309 non-null   int64  \n",
      " 2   Name        1309 non-null   object \n",
      " 3   Sex         1309 non-null   int64  \n",
      " 4   Age         1309 non-null   float64\n",
      " 5   SibSp       1309 non-null   int64  \n",
      " 6   Parch       1309 non-null   int64  \n",
      " 7   Fare        1309 non-null   float64\n",
      " 8   Cabin_A     1309 non-null   uint8  \n",
      " 9   Cabin_B     1309 non-null   uint8  \n",
      " 10  Cabin_C     1309 non-null   uint8  \n",
      " 11  Cabin_D     1309 non-null   uint8  \n",
      " 12  Cabin_E     1309 non-null   uint8  \n",
      " 13  Cabin_F     1309 non-null   uint8  \n",
      " 14  Cabin_G     1309 non-null   uint8  \n",
      " 15  Cabin_T     1309 non-null   uint8  \n",
      " 16  Cabin_X     1309 non-null   uint8  \n",
      " 17  Embarked_C  1309 non-null   uint8  \n",
      " 18  Embarked_Q  1309 non-null   uint8  \n",
      " 19  Embarked_S  1309 non-null   uint8  \n",
      " 20  T_A         1309 non-null   uint8  \n",
      " 21  T_A4        1309 non-null   uint8  \n",
      " 22  T_A5        1309 non-null   uint8  \n",
      " 23  T_AQ3       1309 non-null   uint8  \n",
      " 24  T_AQ4       1309 non-null   uint8  \n",
      " 25  T_AS        1309 non-null   uint8  \n",
      " 26  T_C         1309 non-null   uint8  \n",
      " 27  T_CA        1309 non-null   uint8  \n",
      " 28  T_CASOTON   1309 non-null   uint8  \n",
      " 29  T_FC        1309 non-null   uint8  \n",
      " 30  T_FCC       1309 non-null   uint8  \n",
      " 31  T_Fa        1309 non-null   uint8  \n",
      " 32  T_LINE      1309 non-null   uint8  \n",
      " 33  T_LP        1309 non-null   uint8  \n",
      " 34  T_PC        1309 non-null   uint8  \n",
      " 35  T_PP        1309 non-null   uint8  \n",
      " 36  T_PPP       1309 non-null   uint8  \n",
      " 37  T_SC        1309 non-null   uint8  \n",
      " 38  T_SCA3      1309 non-null   uint8  \n",
      " 39  T_SCA4      1309 non-null   uint8  \n",
      " 40  T_SCAH      1309 non-null   uint8  \n",
      " 41  T_SCOW      1309 non-null   uint8  \n",
      " 42  T_SCPARIS   1309 non-null   uint8  \n",
      " 43  T_SCParis   1309 non-null   uint8  \n",
      " 44  T_SOC       1309 non-null   uint8  \n",
      " 45  T_SOP       1309 non-null   uint8  \n",
      " 46  T_SOPP      1309 non-null   uint8  \n",
      " 47  T_SOTONO2   1309 non-null   uint8  \n",
      " 48  T_SOTONOQ   1309 non-null   uint8  \n",
      " 49  T_SP        1309 non-null   uint8  \n",
      " 50  T_STONO     1309 non-null   uint8  \n",
      " 51  T_STONO2    1309 non-null   uint8  \n",
      " 52  T_STONOQ    1309 non-null   uint8  \n",
      " 53  T_SWPP      1309 non-null   uint8  \n",
      " 54  T_WC        1309 non-null   uint8  \n",
      " 55  T_WEP       1309 non-null   uint8  \n",
      " 56  T_X         1309 non-null   uint8  \n",
      "dtypes: float64(3), int64(4), object(1), uint8(49)\n",
      "memory usage: 144.6+ KB\n"
     ]
    }
   ],
   "source": [
    "df.info()"
   ]
  },
  {
   "cell_type": "code",
   "execution_count": 47,
   "metadata": {},
   "outputs": [
    {
     "data": {
      "text/plain": [
       "['Braund, Mr. Owen Harris',\n",
       " 'Cumings, Mrs. John Bradley (Florence Briggs Thayer)',\n",
       " 'Heikkinen, Miss. Laina',\n",
       " 'Futrelle, Mrs. Jacques Heath (Lily May Peel)',\n",
       " 'Allen, Mr. William Henry',\n",
       " 'Moran, Mr. James',\n",
       " 'McCarthy, Mr. Timothy J',\n",
       " 'Palsson, Master. Gosta Leonard',\n",
       " 'Johnson, Mrs. Oscar W (Elisabeth Vilhelmina Berg)',\n",
       " 'Nasser, Mrs. Nicholas (Adele Achem)',\n",
       " 'Sandstrom, Miss. Marguerite Rut',\n",
       " 'Bonnell, Miss. Elizabeth',\n",
       " 'Saundercock, Mr. William Henry',\n",
       " 'Andersson, Mr. Anders Johan',\n",
       " 'Vestrom, Miss. Hulda Amanda Adolfina',\n",
       " 'Hewlett, Mrs. (Mary D Kingcome) ',\n",
       " 'Rice, Master. Eugene',\n",
       " 'Williams, Mr. Charles Eugene',\n",
       " 'Vander Planke, Mrs. Julius (Emelia Maria Vandemoortele)',\n",
       " 'Masselmani, Mrs. Fatima',\n",
       " 'Fynney, Mr. Joseph J',\n",
       " 'Beesley, Mr. Lawrence',\n",
       " 'McGowan, Miss. Anna \"Annie\"',\n",
       " 'Sloper, Mr. William Thompson',\n",
       " 'Palsson, Miss. Torborg Danira',\n",
       " 'Asplund, Mrs. Carl Oscar (Selma Augusta Emilia Johansson)',\n",
       " 'Emir, Mr. Farred Chehab',\n",
       " 'Fortune, Mr. Charles Alexander',\n",
       " 'O\\'Dwyer, Miss. Ellen \"Nellie\"',\n",
       " 'Todoroff, Mr. Lalio',\n",
       " 'Uruchurtu, Don. Manuel E',\n",
       " 'Spencer, Mrs. William Augustus (Marie Eugenie)',\n",
       " 'Glynn, Miss. Mary Agatha',\n",
       " 'Wheadon, Mr. Edward H',\n",
       " 'Meyer, Mr. Edgar Joseph',\n",
       " 'Holverson, Mr. Alexander Oskar',\n",
       " 'Mamee, Mr. Hanna',\n",
       " 'Cann, Mr. Ernest Charles',\n",
       " 'Vander Planke, Miss. Augusta Maria',\n",
       " 'Nicola-Yarred, Miss. Jamila',\n",
       " 'Ahlin, Mrs. Johan (Johanna Persdotter Larsson)',\n",
       " 'Turpin, Mrs. William John Robert (Dorothy Ann Wonnacott)',\n",
       " 'Kraeff, Mr. Theodor',\n",
       " 'Laroche, Miss. Simonne Marie Anne Andree',\n",
       " 'Devaney, Miss. Margaret Delia',\n",
       " 'Rogers, Mr. William John',\n",
       " 'Lennon, Mr. Denis',\n",
       " \"O'Driscoll, Miss. Bridget\",\n",
       " 'Samaan, Mr. Youssef',\n",
       " 'Arnold-Franchi, Mrs. Josef (Josefine Franchi)',\n",
       " 'Panula, Master. Juha Niilo',\n",
       " 'Nosworthy, Mr. Richard Cater',\n",
       " 'Harper, Mrs. Henry Sleeper (Myna Haxtun)',\n",
       " 'Faunthorpe, Mrs. Lizzie (Elizabeth Anne Wilkinson)',\n",
       " 'Ostby, Mr. Engelhart Cornelius',\n",
       " 'Woolner, Mr. Hugh',\n",
       " 'Rugg, Miss. Emily',\n",
       " 'Novel, Mr. Mansouer',\n",
       " 'West, Miss. Constance Mirium',\n",
       " 'Goodwin, Master. William Frederick',\n",
       " 'Sirayanian, Mr. Orsen',\n",
       " 'Icard, Miss. Amelie',\n",
       " 'Harris, Mr. Henry Birkhardt',\n",
       " 'Skoog, Master. Harald',\n",
       " 'Stewart, Mr. Albert A',\n",
       " 'Moubarek, Master. Gerios',\n",
       " 'Nye, Mrs. (Elizabeth Ramell)',\n",
       " 'Crease, Mr. Ernest James',\n",
       " 'Andersson, Miss. Erna Alexandra',\n",
       " 'Kink, Mr. Vincenz',\n",
       " 'Jenkin, Mr. Stephen Curnow',\n",
       " 'Goodwin, Miss. Lillian Amy',\n",
       " 'Hood, Mr. Ambrose Jr',\n",
       " 'Chronopoulos, Mr. Apostolos',\n",
       " 'Bing, Mr. Lee',\n",
       " 'Moen, Mr. Sigurd Hansen',\n",
       " 'Staneff, Mr. Ivan',\n",
       " 'Moutal, Mr. Rahamin Haim',\n",
       " 'Caldwell, Master. Alden Gates',\n",
       " 'Dowdell, Miss. Elizabeth',\n",
       " 'Waelens, Mr. Achille',\n",
       " 'Sheerlinck, Mr. Jan Baptist',\n",
       " 'McDermott, Miss. Brigdet Delia',\n",
       " 'Carrau, Mr. Francisco M',\n",
       " 'Ilett, Miss. Bertha',\n",
       " 'Backstrom, Mrs. Karl Alfred (Maria Mathilda Gustafsson)',\n",
       " 'Ford, Mr. William Neal',\n",
       " 'Slocovski, Mr. Selman Francis',\n",
       " 'Fortune, Miss. Mabel Helen',\n",
       " 'Celotti, Mr. Francesco',\n",
       " 'Christmann, Mr. Emil',\n",
       " 'Andreasson, Mr. Paul Edvin',\n",
       " 'Chaffee, Mr. Herbert Fuller',\n",
       " 'Dean, Mr. Bertram Frank',\n",
       " 'Coxon, Mr. Daniel',\n",
       " 'Shorney, Mr. Charles Joseph',\n",
       " 'Goldschmidt, Mr. George B',\n",
       " 'Greenfield, Mr. William Bertram',\n",
       " 'Doling, Mrs. John T (Ada Julia Bone)',\n",
       " 'Kantor, Mr. Sinai',\n",
       " 'Petranec, Miss. Matilda',\n",
       " 'Petroff, Mr. Pastcho (\"Pentcho\")',\n",
       " 'White, Mr. Richard Frasar',\n",
       " 'Johansson, Mr. Gustaf Joel',\n",
       " 'Gustafsson, Mr. Anders Vilhelm',\n",
       " 'Mionoff, Mr. Stoytcho',\n",
       " 'Salkjelsvik, Miss. Anna Kristine',\n",
       " 'Moss, Mr. Albert Johan',\n",
       " 'Rekic, Mr. Tido',\n",
       " 'Moran, Miss. Bertha',\n",
       " 'Porter, Mr. Walter Chamberlain',\n",
       " 'Zabour, Miss. Hileni',\n",
       " 'Barton, Mr. David John',\n",
       " 'Jussila, Miss. Katriina',\n",
       " 'Attalah, Miss. Malake',\n",
       " 'Pekoniemi, Mr. Edvard',\n",
       " 'Connors, Mr. Patrick',\n",
       " 'Turpin, Mr. William John Robert',\n",
       " 'Baxter, Mr. Quigg Edmond',\n",
       " 'Andersson, Miss. Ellis Anna Maria',\n",
       " 'Hickman, Mr. Stanley George',\n",
       " 'Moore, Mr. Leonard Charles',\n",
       " 'Nasser, Mr. Nicholas',\n",
       " 'Webber, Miss. Susan',\n",
       " 'White, Mr. Percival Wayland',\n",
       " 'Nicola-Yarred, Master. Elias',\n",
       " 'McMahon, Mr. Martin',\n",
       " 'Madsen, Mr. Fridtjof Arne',\n",
       " 'Peter, Miss. Anna',\n",
       " 'Ekstrom, Mr. Johan',\n",
       " 'Drazenoic, Mr. Jozef',\n",
       " 'Coelho, Mr. Domingos Fernandeo',\n",
       " 'Robins, Mrs. Alexander A (Grace Charity Laury)',\n",
       " 'Weisz, Mrs. Leopold (Mathilde Francoise Pede)',\n",
       " 'Sobey, Mr. Samuel James Hayden',\n",
       " 'Richard, Mr. Emile',\n",
       " 'Newsom, Miss. Helen Monypeny',\n",
       " 'Futrelle, Mr. Jacques Heath',\n",
       " 'Osen, Mr. Olaf Elon',\n",
       " 'Giglio, Mr. Victor',\n",
       " 'Boulos, Mrs. Joseph (Sultana)',\n",
       " 'Nysten, Miss. Anna Sofia',\n",
       " 'Hakkarainen, Mrs. Pekka Pietari (Elin Matilda Dolck)',\n",
       " 'Burke, Mr. Jeremiah',\n",
       " 'Andrew, Mr. Edgardo Samuel',\n",
       " 'Nicholls, Mr. Joseph Charles',\n",
       " 'Andersson, Mr. August Edvard (\"Wennerstrom\")',\n",
       " 'Ford, Miss. Robina Maggie \"Ruby\"',\n",
       " 'Navratil, Mr. Michel (\"Louis M Hoffman\")',\n",
       " 'Byles, Rev. Thomas Roussel Davids',\n",
       " 'Bateman, Rev. Robert James',\n",
       " 'Pears, Mrs. Thomas (Edith Wearne)',\n",
       " 'Meo, Mr. Alfonzo',\n",
       " 'van Billiard, Mr. Austin Blyler',\n",
       " 'Olsen, Mr. Ole Martin',\n",
       " 'Williams, Mr. Charles Duane',\n",
       " 'Gilnagh, Miss. Katherine \"Katie\"',\n",
       " 'Corn, Mr. Harry',\n",
       " 'Smiljanic, Mr. Mile',\n",
       " 'Sage, Master. Thomas Henry',\n",
       " 'Cribb, Mr. John Hatfield',\n",
       " 'Watt, Mrs. James (Elizabeth \"Bessie\" Inglis Milne)',\n",
       " 'Bengtsson, Mr. John Viktor',\n",
       " 'Calic, Mr. Jovo',\n",
       " 'Panula, Master. Eino Viljami',\n",
       " 'Goldsmith, Master. Frank John William \"Frankie\"',\n",
       " 'Chibnall, Mrs. (Edith Martha Bowerman)',\n",
       " 'Skoog, Mrs. William (Anna Bernhardina Karlsson)',\n",
       " 'Baumann, Mr. John D',\n",
       " 'Ling, Mr. Lee',\n",
       " 'Van der hoef, Mr. Wyckoff',\n",
       " 'Rice, Master. Arthur',\n",
       " 'Johnson, Miss. Eleanor Ileen',\n",
       " 'Sivola, Mr. Antti Wilhelm',\n",
       " 'Smith, Mr. James Clinch',\n",
       " 'Klasen, Mr. Klas Albin',\n",
       " 'Lefebre, Master. Henry Forbes',\n",
       " 'Isham, Miss. Ann Elizabeth',\n",
       " 'Hale, Mr. Reginald',\n",
       " 'Leonard, Mr. Lionel',\n",
       " 'Sage, Miss. Constance Gladys',\n",
       " 'Pernot, Mr. Rene',\n",
       " 'Asplund, Master. Clarence Gustaf Hugo',\n",
       " 'Becker, Master. Richard F',\n",
       " 'Kink-Heilmann, Miss. Luise Gretchen',\n",
       " 'Rood, Mr. Hugh Roscoe',\n",
       " 'O\\'Brien, Mrs. Thomas (Johanna \"Hannah\" Godfrey)',\n",
       " 'Romaine, Mr. Charles Hallace (\"Mr C Rolmane\")',\n",
       " 'Bourke, Mr. John',\n",
       " 'Turcin, Mr. Stjepan',\n",
       " 'Pinsky, Mrs. (Rosa)',\n",
       " 'Carbines, Mr. William',\n",
       " 'Andersen-Jensen, Miss. Carla Christine Nielsine',\n",
       " 'Navratil, Master. Michel M',\n",
       " 'Brown, Mrs. James Joseph (Margaret Tobin)',\n",
       " 'Lurette, Miss. Elise',\n",
       " 'Mernagh, Mr. Robert',\n",
       " 'Olsen, Mr. Karl Siegwart Andreas',\n",
       " 'Madigan, Miss. Margaret \"Maggie\"',\n",
       " 'Yrois, Miss. Henriette (\"Mrs Harbeck\")',\n",
       " 'Vande Walle, Mr. Nestor Cyriel',\n",
       " 'Sage, Mr. Frederick',\n",
       " 'Johanson, Mr. Jakob Alfred',\n",
       " 'Youseff, Mr. Gerious',\n",
       " 'Cohen, Mr. Gurshon \"Gus\"',\n",
       " 'Strom, Miss. Telma Matilda',\n",
       " 'Backstrom, Mr. Karl Alfred',\n",
       " 'Albimona, Mr. Nassef Cassem',\n",
       " 'Carr, Miss. Helen \"Ellen\"',\n",
       " 'Blank, Mr. Henry',\n",
       " 'Ali, Mr. Ahmed',\n",
       " 'Cameron, Miss. Clear Annie',\n",
       " 'Perkin, Mr. John Henry',\n",
       " 'Givard, Mr. Hans Kristensen',\n",
       " 'Kiernan, Mr. Philip',\n",
       " 'Newell, Miss. Madeleine',\n",
       " 'Honkanen, Miss. Eliina',\n",
       " 'Jacobsohn, Mr. Sidney Samuel',\n",
       " 'Bazzani, Miss. Albina',\n",
       " 'Harris, Mr. Walter',\n",
       " 'Sunderland, Mr. Victor Francis',\n",
       " 'Bracken, Mr. James H',\n",
       " 'Green, Mr. George Henry',\n",
       " 'Nenkoff, Mr. Christo',\n",
       " 'Hoyt, Mr. Frederick Maxfield',\n",
       " 'Berglund, Mr. Karl Ivar Sven',\n",
       " 'Mellors, Mr. William John',\n",
       " 'Lovell, Mr. John Hall (\"Henry\")',\n",
       " 'Fahlstrom, Mr. Arne Jonas',\n",
       " 'Lefebre, Miss. Mathilde',\n",
       " 'Harris, Mrs. Henry Birkhardt (Irene Wallach)',\n",
       " 'Larsson, Mr. Bengt Edvin',\n",
       " 'Sjostedt, Mr. Ernst Adolf',\n",
       " 'Asplund, Miss. Lillian Gertrud',\n",
       " 'Leyson, Mr. Robert William Norman',\n",
       " 'Harknett, Miss. Alice Phoebe',\n",
       " 'Hold, Mr. Stephen',\n",
       " 'Collyer, Miss. Marjorie \"Lottie\"',\n",
       " 'Pengelly, Mr. Frederick William',\n",
       " 'Hunt, Mr. George Henry',\n",
       " 'Zabour, Miss. Thamine',\n",
       " 'Murphy, Miss. Katherine \"Kate\"',\n",
       " 'Coleridge, Mr. Reginald Charles',\n",
       " 'Maenpaa, Mr. Matti Alexanteri',\n",
       " 'Attalah, Mr. Sleiman',\n",
       " 'Minahan, Dr. William Edward',\n",
       " 'Lindahl, Miss. Agda Thorilda Viktoria',\n",
       " 'Hamalainen, Mrs. William (Anna)',\n",
       " 'Beckwith, Mr. Richard Leonard',\n",
       " 'Carter, Rev. Ernest Courtenay',\n",
       " 'Reed, Mr. James George',\n",
       " 'Strom, Mrs. Wilhelm (Elna Matilda Persson)',\n",
       " 'Stead, Mr. William Thomas',\n",
       " 'Lobb, Mr. William Arthur',\n",
       " 'Rosblom, Mrs. Viktor (Helena Wilhelmina)',\n",
       " 'Touma, Mrs. Darwis (Hanne Youssef Razi)',\n",
       " 'Thorne, Mrs. Gertrude Maybelle',\n",
       " 'Cherry, Miss. Gladys',\n",
       " 'Ward, Miss. Anna',\n",
       " 'Parrish, Mrs. (Lutie Davis)',\n",
       " 'Smith, Mr. Thomas',\n",
       " 'Asplund, Master. Edvin Rojj Felix',\n",
       " 'Taussig, Mr. Emil',\n",
       " 'Harrison, Mr. William',\n",
       " 'Henry, Miss. Delia',\n",
       " 'Reeves, Mr. David',\n",
       " 'Panula, Mr. Ernesti Arvid',\n",
       " 'Persson, Mr. Ernst Ulrik',\n",
       " 'Graham, Mrs. William Thompson (Edith Junkins)',\n",
       " 'Bissette, Miss. Amelia',\n",
       " 'Cairns, Mr. Alexander',\n",
       " 'Tornquist, Mr. William Henry',\n",
       " 'Mellinger, Mrs. (Elizabeth Anne Maidment)',\n",
       " 'Natsch, Mr. Charles H',\n",
       " 'Healy, Miss. Hanora \"Nora\"',\n",
       " 'Andrews, Miss. Kornelia Theodosia',\n",
       " 'Lindblom, Miss. Augusta Charlotta',\n",
       " 'Parkes, Mr. Francis \"Frank\"',\n",
       " 'Rice, Master. Eric',\n",
       " 'Abbott, Mrs. Stanton (Rosa Hunt)',\n",
       " 'Duane, Mr. Frank',\n",
       " 'Olsson, Mr. Nils Johan Goransson',\n",
       " 'de Pelsmaeker, Mr. Alfons',\n",
       " 'Dorking, Mr. Edward Arthur',\n",
       " 'Smith, Mr. Richard William',\n",
       " 'Stankovic, Mr. Ivan',\n",
       " 'de Mulder, Mr. Theodore',\n",
       " 'Naidenoff, Mr. Penko',\n",
       " 'Hosono, Mr. Masabumi',\n",
       " 'Connolly, Miss. Kate',\n",
       " 'Barber, Miss. Ellen \"Nellie\"',\n",
       " 'Bishop, Mrs. Dickinson H (Helen Walton)',\n",
       " 'Levy, Mr. Rene Jacques',\n",
       " 'Haas, Miss. Aloisia',\n",
       " 'Mineff, Mr. Ivan',\n",
       " 'Lewy, Mr. Ervin G',\n",
       " 'Hanna, Mr. Mansour',\n",
       " 'Allison, Miss. Helen Loraine',\n",
       " 'Saalfeld, Mr. Adolphe',\n",
       " 'Baxter, Mrs. James (Helene DeLaudeniere Chaput)',\n",
       " 'Kelly, Miss. Anna Katherine \"Annie Kate\"',\n",
       " 'McCoy, Mr. Bernard',\n",
       " 'Johnson, Mr. William Cahoone Jr',\n",
       " 'Keane, Miss. Nora A',\n",
       " 'Williams, Mr. Howard Hugh \"Harry\"',\n",
       " 'Allison, Master. Hudson Trevor',\n",
       " 'Fleming, Miss. Margaret',\n",
       " 'Penasco y Castellana, Mrs. Victor de Satode (Maria Josefa Perez de Soto y Vallejo)',\n",
       " 'Abelson, Mr. Samuel',\n",
       " 'Francatelli, Miss. Laura Mabel',\n",
       " 'Hays, Miss. Margaret Bechstein',\n",
       " 'Ryerson, Miss. Emily Borie',\n",
       " 'Lahtinen, Mrs. William (Anna Sylfven)',\n",
       " 'Hendekovic, Mr. Ignjac',\n",
       " 'Hart, Mr. Benjamin',\n",
       " 'Nilsson, Miss. Helmina Josefina',\n",
       " 'Kantor, Mrs. Sinai (Miriam Sternin)',\n",
       " 'Moraweck, Dr. Ernest',\n",
       " 'Wick, Miss. Mary Natalie',\n",
       " 'Spedden, Mrs. Frederic Oakley (Margaretta Corning Stone)',\n",
       " 'Dennis, Mr. Samuel',\n",
       " 'Danoff, Mr. Yoto',\n",
       " 'Slayter, Miss. Hilda Mary',\n",
       " 'Caldwell, Mrs. Albert Francis (Sylvia Mae Harbaugh)',\n",
       " 'Sage, Mr. George John Jr',\n",
       " 'Young, Miss. Marie Grice',\n",
       " 'Nysveen, Mr. Johan Hansen',\n",
       " 'Ball, Mrs. (Ada E Hall)',\n",
       " 'Goldsmith, Mrs. Frank John (Emily Alice Brown)',\n",
       " 'Hippach, Miss. Jean Gertrude',\n",
       " 'McCoy, Miss. Agnes',\n",
       " 'Partner, Mr. Austen',\n",
       " 'Graham, Mr. George Edward',\n",
       " 'Vander Planke, Mr. Leo Edmondus',\n",
       " 'Frauenthal, Mrs. Henry William (Clara Heinsheimer)',\n",
       " 'Denkoff, Mr. Mitto',\n",
       " 'Pears, Mr. Thomas Clinton',\n",
       " 'Burns, Miss. Elizabeth Margaret',\n",
       " 'Dahl, Mr. Karl Edwart',\n",
       " 'Blackwell, Mr. Stephen Weart',\n",
       " 'Navratil, Master. Edmond Roger',\n",
       " 'Fortune, Miss. Alice Elizabeth',\n",
       " 'Collander, Mr. Erik Gustaf',\n",
       " 'Sedgwick, Mr. Charles Frederick Waddington',\n",
       " 'Fox, Mr. Stanley Hubert',\n",
       " 'Brown, Miss. Amelia \"Mildred\"',\n",
       " 'Smith, Miss. Marion Elsie',\n",
       " 'Davison, Mrs. Thomas Henry (Mary E Finck)',\n",
       " 'Coutts, Master. William Loch \"William\"',\n",
       " 'Dimic, Mr. Jovan',\n",
       " 'Odahl, Mr. Nils Martin',\n",
       " 'Williams-Lambert, Mr. Fletcher Fellows',\n",
       " 'Elias, Mr. Tannous',\n",
       " 'Arnold-Franchi, Mr. Josef',\n",
       " 'Yousif, Mr. Wazli',\n",
       " 'Vanden Steen, Mr. Leo Peter',\n",
       " 'Bowerman, Miss. Elsie Edith',\n",
       " 'Funk, Miss. Annie Clemmer',\n",
       " 'McGovern, Miss. Mary',\n",
       " 'Mockler, Miss. Helen Mary \"Ellie\"',\n",
       " 'Skoog, Mr. Wilhelm',\n",
       " 'del Carlo, Mr. Sebastiano',\n",
       " 'Barbara, Mrs. (Catherine David)',\n",
       " 'Asim, Mr. Adola',\n",
       " \"O'Brien, Mr. Thomas\",\n",
       " 'Adahl, Mr. Mauritz Nils Martin',\n",
       " 'Warren, Mrs. Frank Manley (Anna Sophia Atkinson)',\n",
       " 'Moussa, Mrs. (Mantoura Boulos)',\n",
       " 'Jermyn, Miss. Annie',\n",
       " 'Aubart, Mme. Leontine Pauline',\n",
       " 'Harder, Mr. George Achilles',\n",
       " 'Wiklund, Mr. Jakob Alfred',\n",
       " 'Beavan, Mr. William Thomas',\n",
       " 'Ringhini, Mr. Sante',\n",
       " 'Palsson, Miss. Stina Viola',\n",
       " 'Meyer, Mrs. Edgar Joseph (Leila Saks)',\n",
       " 'Landergren, Miss. Aurora Adelia',\n",
       " 'Widener, Mr. Harry Elkins',\n",
       " 'Betros, Mr. Tannous',\n",
       " 'Gustafsson, Mr. Karl Gideon',\n",
       " 'Bidois, Miss. Rosalie',\n",
       " 'Nakid, Miss. Maria (\"Mary\")',\n",
       " 'Tikkanen, Mr. Juho',\n",
       " 'Holverson, Mrs. Alexander Oskar (Mary Aline Towner)',\n",
       " 'Plotcharsky, Mr. Vasil',\n",
       " 'Davies, Mr. Charles Henry',\n",
       " 'Goodwin, Master. Sidney Leonard',\n",
       " 'Buss, Miss. Kate',\n",
       " 'Sadlier, Mr. Matthew',\n",
       " 'Lehmann, Miss. Bertha',\n",
       " 'Carter, Mr. William Ernest',\n",
       " 'Jansson, Mr. Carl Olof',\n",
       " 'Gustafsson, Mr. Johan Birger',\n",
       " 'Newell, Miss. Marjorie',\n",
       " 'Sandstrom, Mrs. Hjalmar (Agnes Charlotta Bengtsson)',\n",
       " 'Johansson, Mr. Erik',\n",
       " 'Olsson, Miss. Elina',\n",
       " 'McKane, Mr. Peter David',\n",
       " 'Pain, Dr. Alfred',\n",
       " 'Trout, Mrs. William H (Jessie L)',\n",
       " 'Niskanen, Mr. Juha',\n",
       " 'Adams, Mr. John',\n",
       " 'Jussila, Miss. Mari Aina',\n",
       " 'Hakkarainen, Mr. Pekka Pietari',\n",
       " 'Oreskovic, Miss. Marija',\n",
       " 'Gale, Mr. Shadrach',\n",
       " 'Widegren, Mr. Carl/Charles Peter',\n",
       " 'Richards, Master. William Rowe',\n",
       " 'Birkeland, Mr. Hans Martin Monsen',\n",
       " 'Lefebre, Miss. Ida',\n",
       " 'Sdycoff, Mr. Todor',\n",
       " 'Hart, Mr. Henry',\n",
       " 'Minahan, Miss. Daisy E',\n",
       " 'Cunningham, Mr. Alfred Fleming',\n",
       " 'Sundman, Mr. Johan Julian',\n",
       " 'Meek, Mrs. Thomas (Annie Louise Rowley)',\n",
       " 'Drew, Mrs. James Vivian (Lulu Thorne Christian)',\n",
       " 'Silven, Miss. Lyyli Karoliina',\n",
       " 'Matthews, Mr. William John',\n",
       " 'Van Impe, Miss. Catharina',\n",
       " 'Gheorgheff, Mr. Stanio',\n",
       " 'Charters, Mr. David',\n",
       " 'Zimmerman, Mr. Leo',\n",
       " 'Danbom, Mrs. Ernst Gilbert (Anna Sigrid Maria Brogren)',\n",
       " 'Rosblom, Mr. Viktor Richard',\n",
       " 'Wiseman, Mr. Phillippe',\n",
       " 'Clarke, Mrs. Charles V (Ada Maria Winfield)',\n",
       " 'Phillips, Miss. Kate Florence (\"Mrs Kate Louise Phillips Marshall\")',\n",
       " 'Flynn, Mr. James',\n",
       " 'Pickard, Mr. Berk (Berk Trembisky)',\n",
       " 'Bjornstrom-Steffansson, Mr. Mauritz Hakan',\n",
       " 'Thorneycroft, Mrs. Percival (Florence Kate White)',\n",
       " 'Louch, Mrs. Charles Alexander (Alice Adelaide Slow)',\n",
       " 'Kallio, Mr. Nikolai Erland',\n",
       " 'Silvey, Mr. William Baird',\n",
       " 'Carter, Miss. Lucile Polk',\n",
       " 'Ford, Miss. Doolina Margaret \"Daisy\"',\n",
       " 'Richards, Mrs. Sidney (Emily Hocking)',\n",
       " 'Fortune, Mr. Mark',\n",
       " 'Kvillner, Mr. Johan Henrik Johannesson',\n",
       " 'Hart, Mrs. Benjamin (Esther Ada Bloomfield)',\n",
       " 'Hampe, Mr. Leon',\n",
       " 'Petterson, Mr. Johan Emil',\n",
       " 'Reynaldo, Ms. Encarnacion',\n",
       " 'Johannesen-Bratthammer, Mr. Bernt',\n",
       " 'Dodge, Master. Washington',\n",
       " 'Mellinger, Miss. Madeleine Violet',\n",
       " 'Seward, Mr. Frederic Kimber',\n",
       " 'Baclini, Miss. Marie Catherine',\n",
       " 'Peuchen, Major. Arthur Godfrey',\n",
       " 'West, Mr. Edwy Arthur',\n",
       " 'Hagland, Mr. Ingvald Olai Olsen',\n",
       " 'Foreman, Mr. Benjamin Laventall',\n",
       " 'Goldenberg, Mr. Samuel L',\n",
       " 'Peduzzi, Mr. Joseph',\n",
       " 'Jalsevac, Mr. Ivan',\n",
       " 'Millet, Mr. Francis Davis',\n",
       " 'Kenyon, Mrs. Frederick R (Marion)',\n",
       " 'Toomey, Miss. Ellen',\n",
       " \"O'Connor, Mr. Maurice\",\n",
       " 'Anderson, Mr. Harry',\n",
       " 'Morley, Mr. William',\n",
       " 'Gee, Mr. Arthur H',\n",
       " 'Milling, Mr. Jacob Christian',\n",
       " 'Maisner, Mr. Simon',\n",
       " 'Goncalves, Mr. Manuel Estanslas',\n",
       " 'Campbell, Mr. William',\n",
       " 'Smart, Mr. John Montgomery',\n",
       " 'Scanlan, Mr. James',\n",
       " 'Baclini, Miss. Helene Barbara',\n",
       " 'Keefe, Mr. Arthur',\n",
       " 'Cacic, Mr. Luka',\n",
       " 'West, Mrs. Edwy Arthur (Ada Mary Worth)',\n",
       " 'Jerwan, Mrs. Amin S (Marie Marthe Thuillard)',\n",
       " 'Strandberg, Miss. Ida Sofia',\n",
       " 'Clifford, Mr. George Quincy',\n",
       " 'Renouf, Mr. Peter Henry',\n",
       " 'Braund, Mr. Lewis Richard',\n",
       " 'Karlsson, Mr. Nils August',\n",
       " 'Hirvonen, Miss. Hildur E',\n",
       " 'Goodwin, Master. Harold Victor',\n",
       " 'Frost, Mr. Anthony Wood \"Archie\"',\n",
       " 'Rouse, Mr. Richard Henry',\n",
       " 'Turkula, Mrs. (Hedwig)',\n",
       " 'Bishop, Mr. Dickinson H',\n",
       " 'Lefebre, Miss. Jeannie',\n",
       " 'Hoyt, Mrs. Frederick Maxfield (Jane Anne Forby)',\n",
       " 'Kent, Mr. Edward Austin',\n",
       " 'Somerton, Mr. Francis William',\n",
       " 'Coutts, Master. Eden Leslie \"Neville\"',\n",
       " 'Hagland, Mr. Konrad Mathias Reiersen',\n",
       " 'Windelov, Mr. Einar',\n",
       " 'Molson, Mr. Harry Markland',\n",
       " 'Artagaveytia, Mr. Ramon',\n",
       " 'Stanley, Mr. Edward Roland',\n",
       " 'Yousseff, Mr. Gerious',\n",
       " 'Eustis, Miss. Elizabeth Mussey',\n",
       " 'Shellard, Mr. Frederick William',\n",
       " 'Allison, Mrs. Hudson J C (Bessie Waldo Daniels)',\n",
       " 'Svensson, Mr. Olof',\n",
       " 'Calic, Mr. Petar',\n",
       " 'Canavan, Miss. Mary',\n",
       " \"O'Sullivan, Miss. Bridget Mary\",\n",
       " 'Laitinen, Miss. Kristina Sofia',\n",
       " 'Maioni, Miss. Roberta',\n",
       " 'Penasco y Castellana, Mr. Victor de Satode',\n",
       " 'Quick, Mrs. Frederick Charles (Jane Richards)',\n",
       " 'Bradley, Mr. George (\"George Arthur Brayton\")',\n",
       " 'Olsen, Mr. Henry Margido',\n",
       " 'Lang, Mr. Fang',\n",
       " 'Daly, Mr. Eugene Patrick',\n",
       " 'Webber, Mr. James',\n",
       " 'McGough, Mr. James Robert',\n",
       " 'Rothschild, Mrs. Martin (Elizabeth L. Barrett)',\n",
       " 'Coleff, Mr. Satio',\n",
       " 'Walker, Mr. William Anderson',\n",
       " 'Lemore, Mrs. (Amelia Milley)',\n",
       " 'Ryan, Mr. Patrick',\n",
       " 'Angle, Mrs. William A (Florence \"Mary\" Agnes Hughes)',\n",
       " 'Pavlovic, Mr. Stefo',\n",
       " 'Perreault, Miss. Anne',\n",
       " 'Vovk, Mr. Janko',\n",
       " 'Lahoud, Mr. Sarkis',\n",
       " 'Hippach, Mrs. Louis Albert (Ida Sophia Fischer)',\n",
       " 'Kassem, Mr. Fared',\n",
       " 'Farrell, Mr. James',\n",
       " 'Ridsdale, Miss. Lucy',\n",
       " 'Farthing, Mr. John',\n",
       " 'Salonen, Mr. Johan Werner',\n",
       " 'Hocking, Mr. Richard George',\n",
       " 'Quick, Miss. Phyllis May',\n",
       " 'Toufik, Mr. Nakli',\n",
       " 'Elias, Mr. Joseph Jr',\n",
       " 'Peter, Mrs. Catherine (Catherine Rizk)',\n",
       " 'Cacic, Miss. Marija',\n",
       " 'Hart, Miss. Eva Miriam',\n",
       " 'Butt, Major. Archibald Willingham',\n",
       " 'LeRoy, Miss. Bertha',\n",
       " 'Risien, Mr. Samuel Beard',\n",
       " 'Frolicher, Miss. Hedwig Margaritha',\n",
       " 'Crosby, Miss. Harriet R',\n",
       " 'Andersson, Miss. Ingeborg Constanzia',\n",
       " 'Andersson, Miss. Sigrid Elisabeth',\n",
       " 'Beane, Mr. Edward',\n",
       " 'Douglas, Mr. Walter Donald',\n",
       " 'Nicholson, Mr. Arthur Ernest',\n",
       " 'Beane, Mrs. Edward (Ethel Clarke)',\n",
       " 'Padro y Manent, Mr. Julian',\n",
       " 'Goldsmith, Mr. Frank John',\n",
       " 'Davies, Master. John Morgan Jr',\n",
       " 'Thayer, Mr. John Borland Jr',\n",
       " 'Sharp, Mr. Percival James R',\n",
       " \"O'Brien, Mr. Timothy\",\n",
       " 'Leeni, Mr. Fahim (\"Philip Zenni\")',\n",
       " 'Ohman, Miss. Velin',\n",
       " 'Wright, Mr. George',\n",
       " 'Duff Gordon, Lady. (Lucille Christiana Sutherland) (\"Mrs Morgan\")',\n",
       " 'Robbins, Mr. Victor',\n",
       " 'Taussig, Mrs. Emil (Tillie Mandelbaum)',\n",
       " 'de Messemaeker, Mrs. Guillaume Joseph (Emma)',\n",
       " 'Morrow, Mr. Thomas Rowan',\n",
       " 'Sivic, Mr. Husein',\n",
       " 'Norman, Mr. Robert Douglas',\n",
       " 'Simmons, Mr. John',\n",
       " 'Meanwell, Miss. (Marion Ogden)',\n",
       " 'Davies, Mr. Alfred J',\n",
       " 'Stoytcheff, Mr. Ilia',\n",
       " 'Palsson, Mrs. Nils (Alma Cornelia Berglund)',\n",
       " 'Doharr, Mr. Tannous',\n",
       " 'Jonsson, Mr. Carl',\n",
       " 'Harris, Mr. George',\n",
       " 'Appleton, Mrs. Edward Dale (Charlotte Lamson)',\n",
       " 'Flynn, Mr. John Irwin (\"Irving\")',\n",
       " 'Kelly, Miss. Mary',\n",
       " 'Rush, Mr. Alfred George John',\n",
       " 'Patchett, Mr. George',\n",
       " 'Garside, Miss. Ethel',\n",
       " 'Silvey, Mrs. William Baird (Alice Munger)',\n",
       " 'Caram, Mrs. Joseph (Maria Elias)',\n",
       " 'Jussila, Mr. Eiriik',\n",
       " 'Christy, Miss. Julie Rachel',\n",
       " 'Thayer, Mrs. John Borland (Marian Longstreth Morris)',\n",
       " 'Downton, Mr. William James',\n",
       " 'Ross, Mr. John Hugo',\n",
       " 'Paulner, Mr. Uscher',\n",
       " 'Taussig, Miss. Ruth',\n",
       " 'Jarvis, Mr. John Denzil',\n",
       " 'Frolicher-Stehli, Mr. Maxmillian',\n",
       " 'Gilinski, Mr. Eliezer',\n",
       " 'Murdlin, Mr. Joseph',\n",
       " 'Rintamaki, Mr. Matti',\n",
       " 'Stephenson, Mrs. Walter Bertram (Martha Eustis)',\n",
       " 'Elsbury, Mr. William James',\n",
       " 'Bourke, Miss. Mary',\n",
       " 'Chapman, Mr. John Henry',\n",
       " 'Van Impe, Mr. Jean Baptiste',\n",
       " 'Leitch, Miss. Jessie Wills',\n",
       " 'Johnson, Mr. Alfred',\n",
       " 'Boulos, Mr. Hanna',\n",
       " 'Duff Gordon, Sir. Cosmo Edmund (\"Mr Morgan\")',\n",
       " 'Jacobsohn, Mrs. Sidney Samuel (Amy Frances Christy)',\n",
       " 'Slabenoff, Mr. Petco',\n",
       " 'Harrington, Mr. Charles H',\n",
       " 'Torber, Mr. Ernst William',\n",
       " 'Homer, Mr. Harry (\"Mr E Haven\")',\n",
       " 'Lindell, Mr. Edvard Bengtsson',\n",
       " 'Karaic, Mr. Milan',\n",
       " 'Daniel, Mr. Robert Williams',\n",
       " 'Laroche, Mrs. Joseph (Juliette Marie Louise Lafargue)',\n",
       " 'Shutes, Miss. Elizabeth W',\n",
       " 'Andersson, Mrs. Anders Johan (Alfrida Konstantia Brogren)',\n",
       " 'Jardin, Mr. Jose Neto',\n",
       " 'Murphy, Miss. Margaret Jane',\n",
       " 'Horgan, Mr. John',\n",
       " 'Brocklebank, Mr. William Alfred',\n",
       " 'Herman, Miss. Alice',\n",
       " 'Danbom, Mr. Ernst Gilbert',\n",
       " 'Lobb, Mrs. William Arthur (Cordelia K Stanlick)',\n",
       " 'Becker, Miss. Marion Louise',\n",
       " 'Gavey, Mr. Lawrence',\n",
       " 'Yasbeck, Mr. Antoni',\n",
       " 'Kimball, Mr. Edwin Nelson Jr',\n",
       " 'Nakid, Mr. Sahid',\n",
       " 'Hansen, Mr. Henry Damsgaard',\n",
       " 'Bowen, Mr. David John \"Dai\"',\n",
       " 'Sutton, Mr. Frederick',\n",
       " 'Kirkland, Rev. Charles Leonard',\n",
       " 'Longley, Miss. Gretchen Fiske',\n",
       " 'Bostandyeff, Mr. Guentcho',\n",
       " \"O'Connell, Mr. Patrick D\",\n",
       " 'Barkworth, Mr. Algernon Henry Wilson',\n",
       " 'Lundahl, Mr. Johan Svensson',\n",
       " 'Stahelin-Maeglin, Dr. Max',\n",
       " 'Parr, Mr. William Henry Marsh',\n",
       " 'Skoog, Miss. Mabel',\n",
       " 'Davis, Miss. Mary',\n",
       " 'Leinonen, Mr. Antti Gustaf',\n",
       " 'Collyer, Mr. Harvey',\n",
       " 'Panula, Mrs. Juha (Maria Emilia Ojala)',\n",
       " 'Thorneycroft, Mr. Percival',\n",
       " 'Jensen, Mr. Hans Peder',\n",
       " 'Sagesser, Mlle. Emma',\n",
       " 'Skoog, Miss. Margit Elizabeth',\n",
       " 'Foo, Mr. Choong',\n",
       " 'Baclini, Miss. Eugenie',\n",
       " 'Harper, Mr. Henry Sleeper',\n",
       " 'Cor, Mr. Liudevit',\n",
       " 'Simonius-Blumer, Col. Oberst Alfons',\n",
       " 'Willey, Mr. Edward',\n",
       " 'Stanley, Miss. Amy Zillah Elsie',\n",
       " 'Mitkoff, Mr. Mito',\n",
       " 'Doling, Miss. Elsie',\n",
       " 'Kalvik, Mr. Johannes Halvorsen',\n",
       " 'O\\'Leary, Miss. Hanora \"Norah\"',\n",
       " 'Hegarty, Miss. Hanora \"Nora\"',\n",
       " 'Hickman, Mr. Leonard Mark',\n",
       " 'Radeff, Mr. Alexander',\n",
       " 'Bourke, Mrs. John (Catherine)',\n",
       " 'Eitemiller, Mr. George Floyd',\n",
       " 'Newell, Mr. Arthur Webster',\n",
       " 'Frauenthal, Dr. Henry William',\n",
       " 'Badt, Mr. Mohamed',\n",
       " 'Colley, Mr. Edward Pomeroy',\n",
       " 'Coleff, Mr. Peju',\n",
       " 'Lindqvist, Mr. Eino William',\n",
       " 'Hickman, Mr. Lewis',\n",
       " 'Butler, Mr. Reginald Fenton',\n",
       " 'Rommetvedt, Mr. Knud Paust',\n",
       " 'Cook, Mr. Jacob',\n",
       " 'Taylor, Mrs. Elmer Zebley (Juliet Cummins Wright)',\n",
       " 'Brown, Mrs. Thomas William Solomon (Elizabeth Catherine Ford)',\n",
       " 'Davidson, Mr. Thornton',\n",
       " 'Mitchell, Mr. Henry Michael',\n",
       " 'Wilhelms, Mr. Charles',\n",
       " 'Watson, Mr. Ennis Hastings',\n",
       " 'Edvardsson, Mr. Gustaf Hjalmar',\n",
       " 'Sawyer, Mr. Frederick Charles',\n",
       " 'Turja, Miss. Anna Sofia',\n",
       " 'Goodwin, Mrs. Frederick (Augusta Tyler)',\n",
       " 'Cardeza, Mr. Thomas Drake Martinez',\n",
       " 'Peters, Miss. Katie',\n",
       " 'Hassab, Mr. Hammad',\n",
       " 'Olsvigen, Mr. Thor Anderson',\n",
       " 'Goodwin, Mr. Charles Edward',\n",
       " 'Brown, Mr. Thomas William Solomon',\n",
       " 'Laroche, Mr. Joseph Philippe Lemercier',\n",
       " 'Panula, Mr. Jaako Arnold',\n",
       " 'Dakic, Mr. Branko',\n",
       " 'Fischer, Mr. Eberhard Thelander',\n",
       " 'Madill, Miss. Georgette Alexandra',\n",
       " 'Dick, Mr. Albert Adrian',\n",
       " 'Karun, Miss. Manca',\n",
       " 'Lam, Mr. Ali',\n",
       " 'Saad, Mr. Khalil',\n",
       " 'Weir, Col. John',\n",
       " 'Chapman, Mr. Charles Henry',\n",
       " 'Kelly, Mr. James',\n",
       " 'Mullens, Miss. Katherine \"Katie\"',\n",
       " 'Thayer, Mr. John Borland',\n",
       " 'Humblen, Mr. Adolf Mathias Nicolai Olsen',\n",
       " 'Astor, Mrs. John Jacob (Madeleine Talmadge Force)',\n",
       " 'Silverthorne, Mr. Spencer Victor',\n",
       " 'Barbara, Miss. Saiide',\n",
       " 'Gallagher, Mr. Martin',\n",
       " 'Hansen, Mr. Henrik Juul',\n",
       " 'Morley, Mr. Henry Samuel (\"Mr Henry Marshall\")',\n",
       " 'Kelly, Mrs. Florence \"Fannie\"',\n",
       " 'Calderhead, Mr. Edward Pennington',\n",
       " 'Cleaver, Miss. Alice',\n",
       " 'Moubarek, Master. Halim Gonios (\"William George\")',\n",
       " 'Mayne, Mlle. Berthe Antonine (\"Mrs de Villiers\")',\n",
       " 'Klaber, Mr. Herman',\n",
       " 'Taylor, Mr. Elmer Zebley',\n",
       " 'Larsson, Mr. August Viktor',\n",
       " 'Greenberg, Mr. Samuel',\n",
       " 'Soholt, Mr. Peter Andreas Lauritz Andersen',\n",
       " 'Endres, Miss. Caroline Louise',\n",
       " 'Troutt, Miss. Edwina Celia \"Winnie\"',\n",
       " 'McEvoy, Mr. Michael',\n",
       " 'Johnson, Mr. Malkolm Joackim',\n",
       " 'Harper, Miss. Annie Jessie \"Nina\"',\n",
       " 'Jensen, Mr. Svend Lauritz',\n",
       " 'Gillespie, Mr. William Henry',\n",
       " 'Hodges, Mr. Henry Price',\n",
       " 'Chambers, Mr. Norman Campbell',\n",
       " 'Oreskovic, Mr. Luka',\n",
       " 'Renouf, Mrs. Peter Henry (Lillian Jefferys)',\n",
       " 'Mannion, Miss. Margareth',\n",
       " 'Bryhl, Mr. Kurt Arnold Gottfrid',\n",
       " 'Ilmakangas, Miss. Pieta Sofia',\n",
       " 'Allen, Miss. Elisabeth Walton',\n",
       " 'Hassan, Mr. Houssein G N',\n",
       " 'Knight, Mr. Robert J',\n",
       " 'Berriman, Mr. William John',\n",
       " 'Troupiansky, Mr. Moses Aaron',\n",
       " 'Williams, Mr. Leslie',\n",
       " 'Ford, Mrs. Edward (Margaret Ann Watson)',\n",
       " 'Lesurer, Mr. Gustave J',\n",
       " 'Ivanoff, Mr. Kanio',\n",
       " 'Nankoff, Mr. Minko',\n",
       " 'Hawksford, Mr. Walter James',\n",
       " 'Cavendish, Mr. Tyrell William',\n",
       " 'Ryerson, Miss. Susan Parker \"Suzette\"',\n",
       " 'McNamee, Mr. Neal',\n",
       " 'Stranden, Mr. Juho',\n",
       " 'Crosby, Capt. Edward Gifford',\n",
       " 'Abbott, Mr. Rossmore Edward',\n",
       " 'Sinkkonen, Miss. Anna',\n",
       " 'Marvin, Mr. Daniel Warner',\n",
       " 'Connaghton, Mr. Michael',\n",
       " 'Wells, Miss. Joan',\n",
       " 'Moor, Master. Meier',\n",
       " 'Vande Velde, Mr. Johannes Joseph',\n",
       " 'Jonkoff, Mr. Lalio',\n",
       " 'Herman, Mrs. Samuel (Jane Laver)',\n",
       " 'Hamalainen, Master. Viljo',\n",
       " 'Carlsson, Mr. August Sigfrid',\n",
       " 'Bailey, Mr. Percy Andrew',\n",
       " 'Theobald, Mr. Thomas Leonard',\n",
       " 'Rothes, the Countess. of (Lucy Noel Martha Dyer-Edwards)',\n",
       " 'Garfirth, Mr. John',\n",
       " 'Nirva, Mr. Iisakki Antino Aijo',\n",
       " 'Barah, Mr. Hanna Assi',\n",
       " 'Carter, Mrs. William Ernest (Lucile Polk)',\n",
       " 'Eklund, Mr. Hans Linus',\n",
       " 'Hogeboom, Mrs. John C (Anna Andrews)',\n",
       " 'Brewe, Dr. Arthur Jackson',\n",
       " 'Mangan, Miss. Mary',\n",
       " 'Moran, Mr. Daniel J',\n",
       " 'Gronnestad, Mr. Daniel Danielsen',\n",
       " 'Lievens, Mr. Rene Aime',\n",
       " 'Jensen, Mr. Niels Peder',\n",
       " 'Mack, Mrs. (Mary)',\n",
       " 'Elias, Mr. Dibo',\n",
       " 'Hocking, Mrs. Elizabeth (Eliza Needs)',\n",
       " 'Myhrman, Mr. Pehr Fabian Oliver Malkolm',\n",
       " 'Tobin, Mr. Roger',\n",
       " 'Emanuel, Miss. Virginia Ethel',\n",
       " 'Kilgannon, Mr. Thomas J',\n",
       " 'Robert, Mrs. Edward Scott (Elisabeth Walton McMillan)',\n",
       " 'Ayoub, Miss. Banoura',\n",
       " 'Dick, Mrs. Albert Adrian (Vera Gillespie)',\n",
       " 'Long, Mr. Milton Clyde',\n",
       " 'Johnston, Mr. Andrew G',\n",
       " 'Ali, Mr. William',\n",
       " 'Harmer, Mr. Abraham (David Lishin)',\n",
       " 'Sjoblom, Miss. Anna Sofia',\n",
       " 'Rice, Master. George Hugh',\n",
       " 'Dean, Master. Bertram Vere',\n",
       " 'Guggenheim, Mr. Benjamin',\n",
       " 'Keane, Mr. Andrew \"Andy\"',\n",
       " 'Gaskell, Mr. Alfred',\n",
       " 'Sage, Miss. Stella Anna',\n",
       " 'Hoyt, Mr. William Fisher',\n",
       " 'Dantcheff, Mr. Ristiu',\n",
       " 'Otter, Mr. Richard',\n",
       " 'Leader, Dr. Alice (Farnham)',\n",
       " 'Osman, Mrs. Mara',\n",
       " 'Ibrahim Shawah, Mr. Yousseff',\n",
       " 'Van Impe, Mrs. Jean Baptiste (Rosalie Paula Govaert)',\n",
       " 'Ponesell, Mr. Martin',\n",
       " 'Collyer, Mrs. Harvey (Charlotte Annie Tate)',\n",
       " 'Carter, Master. William Thornton II',\n",
       " 'Thomas, Master. Assad Alexander',\n",
       " 'Hedman, Mr. Oskar Arvid',\n",
       " 'Johansson, Mr. Karl Johan',\n",
       " 'Andrews, Mr. Thomas Jr',\n",
       " 'Pettersson, Miss. Ellen Natalia',\n",
       " 'Meyer, Mr. August',\n",
       " 'Chambers, Mrs. Norman Campbell (Bertha Griggs)',\n",
       " 'Alexander, Mr. William',\n",
       " 'Lester, Mr. James',\n",
       " 'Slemen, Mr. Richard James',\n",
       " 'Andersson, Miss. Ebba Iris Alfrida',\n",
       " 'Tomlin, Mr. Ernest Portage',\n",
       " 'Fry, Mr. Richard',\n",
       " 'Heininen, Miss. Wendla Maria',\n",
       " 'Mallet, Mr. Albert',\n",
       " 'Holm, Mr. John Fredrik Alexander',\n",
       " 'Skoog, Master. Karl Thorsten',\n",
       " 'Hays, Mrs. Charles Melville (Clara Jennings Gregg)',\n",
       " 'Lulic, Mr. Nikola',\n",
       " 'Reuchlin, Jonkheer. John George',\n",
       " 'Moor, Mrs. (Beila)',\n",
       " 'Panula, Master. Urho Abraham',\n",
       " 'Flynn, Mr. John',\n",
       " 'Lam, Mr. Len',\n",
       " 'Mallet, Master. Andre',\n",
       " 'McCormack, Mr. Thomas Joseph',\n",
       " 'Stone, Mrs. George Nelson (Martha Evelyn)',\n",
       " 'Yasbeck, Mrs. Antoni (Selini Alexander)',\n",
       " 'Richards, Master. George Sibley',\n",
       " 'Saad, Mr. Amin',\n",
       " 'Augustsson, Mr. Albert',\n",
       " 'Allum, Mr. Owen George',\n",
       " 'Compton, Miss. Sara Rebecca',\n",
       " 'Pasic, Mr. Jakob',\n",
       " 'Sirota, Mr. Maurice',\n",
       " 'Chip, Mr. Chang',\n",
       " 'Marechal, Mr. Pierre',\n",
       " 'Alhomaki, Mr. Ilmari Rudolf',\n",
       " 'Mudd, Mr. Thomas Charles',\n",
       " 'Serepeca, Miss. Augusta',\n",
       " 'Lemberopolous, Mr. Peter L',\n",
       " 'Culumovic, Mr. Jeso',\n",
       " 'Abbing, Mr. Anthony',\n",
       " 'Sage, Mr. Douglas Bullen',\n",
       " 'Markoff, Mr. Marin',\n",
       " 'Harper, Rev. John',\n",
       " 'Goldenberg, Mrs. Samuel L (Edwiga Grabowska)',\n",
       " 'Andersson, Master. Sigvard Harald Elias',\n",
       " 'Svensson, Mr. Johan',\n",
       " 'Boulos, Miss. Nourelain',\n",
       " 'Lines, Miss. Mary Conover',\n",
       " 'Carter, Mrs. Ernest Courtenay (Lilian Hughes)',\n",
       " 'Aks, Mrs. Sam (Leah Rosen)',\n",
       " 'Wick, Mrs. George Dennick (Mary Hitchcock)',\n",
       " 'Daly, Mr. Peter Denis ',\n",
       " 'Baclini, Mrs. Solomon (Latifa Qurban)',\n",
       " 'Razi, Mr. Raihed',\n",
       " 'Hansen, Mr. Claus Peter',\n",
       " 'Giles, Mr. Frederick Edward',\n",
       " 'Swift, Mrs. Frederick Joel (Margaret Welles Barron)',\n",
       " 'Sage, Miss. Dorothy Edith \"Dolly\"',\n",
       " 'Gill, Mr. John William',\n",
       " 'Bystrom, Mrs. (Karolina)',\n",
       " 'Duran y More, Miss. Asuncion',\n",
       " 'Roebling, Mr. Washington Augustus II',\n",
       " 'van Melkebeke, Mr. Philemon',\n",
       " 'Johnson, Master. Harold Theodor',\n",
       " 'Balkic, Mr. Cerin',\n",
       " 'Beckwith, Mrs. Richard Leonard (Sallie Monypeny)',\n",
       " 'Carlsson, Mr. Frans Olof',\n",
       " 'Vander Cruyssen, Mr. Victor',\n",
       " 'Abelson, Mrs. Samuel (Hannah Wizosky)',\n",
       " 'Najib, Miss. Adele Kiamie \"Jane\"',\n",
       " 'Gustafsson, Mr. Alfred Ossian',\n",
       " 'Petroff, Mr. Nedelio',\n",
       " 'Laleff, Mr. Kristo',\n",
       " 'Potter, Mrs. Thomas Jr (Lily Alexenia Wilson)',\n",
       " 'Shelley, Mrs. William (Imanita Parrish Hall)',\n",
       " 'Markun, Mr. Johann',\n",
       " 'Dahlberg, Miss. Gerda Ulrika',\n",
       " 'Banfield, Mr. Frederick James',\n",
       " 'Sutehall, Mr. Henry Jr',\n",
       " 'Rice, Mrs. William (Margaret Norton)',\n",
       " 'Montvila, Rev. Juozas',\n",
       " 'Graham, Miss. Margaret Edith',\n",
       " 'Johnston, Miss. Catherine Helen \"Carrie\"',\n",
       " 'Behr, Mr. Karl Howell',\n",
       " 'Dooley, Mr. Patrick',\n",
       " 'Kelly, Mr. James',\n",
       " 'Wilkes, Mrs. James (Ellen Needs)',\n",
       " 'Myles, Mr. Thomas Francis',\n",
       " 'Wirz, Mr. Albert',\n",
       " 'Hirvonen, Mrs. Alexander (Helga E Lindqvist)',\n",
       " 'Svensson, Mr. Johan Cervin',\n",
       " 'Connolly, Miss. Kate',\n",
       " 'Caldwell, Mr. Albert Francis',\n",
       " 'Abrahim, Mrs. Joseph (Sophie Halaut Easu)',\n",
       " 'Davies, Mr. John Samuel',\n",
       " 'Ilieff, Mr. Ylio',\n",
       " 'Jones, Mr. Charles Cresson',\n",
       " 'Snyder, Mrs. John Pillsbury (Nelle Stevenson)',\n",
       " 'Howard, Mr. Benjamin',\n",
       " 'Chaffee, Mrs. Herbert Fuller (Carrie Constance Toogood)',\n",
       " 'del Carlo, Mrs. Sebastiano (Argenia Genovesi)',\n",
       " 'Keane, Mr. Daniel',\n",
       " 'Assaf, Mr. Gerios',\n",
       " 'Ilmakangas, Miss. Ida Livija',\n",
       " 'Assaf Khalil, Mrs. Mariana (Miriam\")\"',\n",
       " 'Rothschild, Mr. Martin',\n",
       " 'Olsen, Master. Artur Karl',\n",
       " 'Flegenheim, Mrs. Alfred (Antoinette)',\n",
       " 'Williams, Mr. Richard Norris II',\n",
       " 'Ryerson, Mrs. Arthur Larned (Emily Maria Borie)',\n",
       " 'Robins, Mr. Alexander A',\n",
       " 'Ostby, Miss. Helene Ragnhild',\n",
       " 'Daher, Mr. Shedid',\n",
       " 'Brady, Mr. John Bertram',\n",
       " 'Samaan, Mr. Elias',\n",
       " 'Louch, Mr. Charles Alexander',\n",
       " 'Jefferys, Mr. Clifford Thomas',\n",
       " 'Dean, Mrs. Bertram (Eva Georgetta Light)',\n",
       " 'Johnston, Mrs. Andrew G (Elizabeth Lily\" Watson)\"',\n",
       " 'Mock, Mr. Philipp Edmund',\n",
       " 'Katavelas, Mr. Vassilios (Catavelas Vassilios\")\"',\n",
       " 'Roth, Miss. Sarah A',\n",
       " 'Cacic, Miss. Manda',\n",
       " 'Sap, Mr. Julius',\n",
       " 'Hee, Mr. Ling',\n",
       " 'Karun, Mr. Franz',\n",
       " 'Franklin, Mr. Thomas Parham',\n",
       " 'Goldsmith, Mr. Nathan',\n",
       " 'Corbett, Mrs. Walter H (Irene Colvin)',\n",
       " 'Kimball, Mrs. Edwin Nelson Jr (Gertrude Parsons)',\n",
       " 'Peltomaki, Mr. Nikolai Johannes',\n",
       " 'Chevre, Mr. Paul Romaine',\n",
       " 'Shaughnessy, Mr. Patrick',\n",
       " 'Bucknell, Mrs. William Robert (Emma Eliza Ward)',\n",
       " 'Coutts, Mrs. William (Winnie Minnie\" Treanor)\"',\n",
       " 'Smith, Mr. Lucien Philip',\n",
       " 'Pulbaum, Mr. Franz',\n",
       " 'Hocking, Miss. Ellen Nellie\"\"',\n",
       " 'Fortune, Miss. Ethel Flora',\n",
       " 'Mangiavacchi, Mr. Serafino Emilio',\n",
       " 'Rice, Master. Albert',\n",
       " 'Cor, Mr. Bartol',\n",
       " 'Abelseth, Mr. Olaus Jorgensen',\n",
       " 'Davison, Mr. Thomas Henry',\n",
       " 'Chaudanson, Miss. Victorine',\n",
       " 'Dika, Mr. Mirko',\n",
       " 'McCrae, Mr. Arthur Gordon',\n",
       " 'Bjorklund, Mr. Ernst Herbert',\n",
       " 'Bradley, Miss. Bridget Delia',\n",
       " 'Ryerson, Master. John Borie',\n",
       " 'Corey, Mrs. Percy C (Mary Phyllis Elizabeth Miller)',\n",
       " 'Burns, Miss. Mary Delia',\n",
       " 'Moore, Mr. Clarence Bloomfield',\n",
       " 'Tucker, Mr. Gilbert Milligan Jr',\n",
       " 'Fortune, Mrs. Mark (Mary McDougald)',\n",
       " 'Mulvihill, Miss. Bertha E',\n",
       " 'Minkoff, Mr. Lazar',\n",
       " 'Nieminen, Miss. Manta Josefina',\n",
       " 'Ovies y Rodriguez, Mr. Servando',\n",
       " 'Geiger, Miss. Amalie',\n",
       " 'Keeping, Mr. Edwin',\n",
       " 'Miles, Mr. Frank',\n",
       " 'Cornell, Mrs. Robert Clifford (Malvina Helen Lamson)',\n",
       " 'Aldworth, Mr. Charles Augustus',\n",
       " 'Doyle, Miss. Elizabeth',\n",
       " 'Boulos, Master. Akar',\n",
       " 'Straus, Mr. Isidor',\n",
       " 'Case, Mr. Howard Brown',\n",
       " 'Demetri, Mr. Marinko',\n",
       " 'Lamb, Mr. John Joseph',\n",
       " 'Khalil, Mr. Betros',\n",
       " 'Barry, Miss. Julia',\n",
       " 'Badman, Miss. Emily Louisa',\n",
       " \"O'Donoghue, Ms. Bridget\",\n",
       " 'Wells, Master. Ralph Lester',\n",
       " 'Dyker, Mrs. Adolf Fredrik (Anna Elisabeth Judith Andersson)',\n",
       " 'Pedersen, Mr. Olaf',\n",
       " 'Davidson, Mrs. Thornton (Orian Hays)',\n",
       " 'Guest, Mr. Robert',\n",
       " 'Birnbaum, Mr. Jakob',\n",
       " 'Tenglin, Mr. Gunnar Isidor',\n",
       " 'Cavendish, Mrs. Tyrell William (Julia Florence Siegel)',\n",
       " 'Makinen, Mr. Kalle Edvard',\n",
       " 'Braf, Miss. Elin Ester Maria',\n",
       " 'Nancarrow, Mr. William Henry',\n",
       " 'Stengel, Mrs. Charles Emil Henry (Annie May Morris)',\n",
       " 'Weisz, Mr. Leopold',\n",
       " 'Foley, Mr. William',\n",
       " 'Johansson Palmquist, Mr. Oskar Leander',\n",
       " 'Thomas, Mrs. Alexander (Thamine Thelma\")\"',\n",
       " 'Holthen, Mr. Johan Martin',\n",
       " 'Buckley, Mr. Daniel',\n",
       " 'Ryan, Mr. Edward',\n",
       " 'Willer, Mr. Aaron (Abi Weller\")\"',\n",
       " ...]"
      ]
     },
     "execution_count": 47,
     "metadata": {},
     "output_type": "execute_result"
    }
   ],
   "source": [
    "list(df['Name'])"
   ]
  },
  {
   "cell_type": "code",
   "execution_count": 48,
   "metadata": {},
   "outputs": [],
   "source": [
    "Names = []\n",
    "for i in  list(df['Name']): \n",
    "    Names.append(i.split(',')[1].strip().split('.')[0])\n",
    "df['Name'] = Names"
   ]
  },
  {
   "cell_type": "code",
   "execution_count": 49,
   "metadata": {},
   "outputs": [
    {
     "data": {
      "text/plain": [
       "Mr              757\n",
       "Miss            260\n",
       "Mrs             197\n",
       "Master           61\n",
       "Rev               8\n",
       "Dr                8\n",
       "Col               4\n",
       "Mlle              2\n",
       "Major             2\n",
       "Ms                2\n",
       "Lady              1\n",
       "Sir               1\n",
       "Mme               1\n",
       "Don               1\n",
       "Capt              1\n",
       "the Countess      1\n",
       "Jonkheer          1\n",
       "Dona              1\n",
       "Name: Name, dtype: int64"
      ]
     },
     "execution_count": 49,
     "metadata": {},
     "output_type": "execute_result"
    }
   ],
   "source": [
    "df['Name'].value_counts()"
   ]
  },
  {
   "cell_type": "code",
   "execution_count": 50,
   "metadata": {},
   "outputs": [],
   "source": [
    "df.iloc[[759],[2]] = 'Miss'\n",
    "df.iloc[[1305],[2]] = 'Miss'\n",
    "df.iloc[[822],[2]] = 'Master'\n",
    "df.iloc[[745],[2]] = 'Mr'\n",
    "df.iloc[[30],[2]] = 'Mr'\n",
    "df.iloc[[369],[2]] = 'Miss'\n",
    "df.iloc[[599],[2]] = 'Mr'\n",
    "df.iloc[[556],[2]] = 'Mrs'\n",
    "df.iloc[[[443,979]],[2]] = 'Miss'\n",
    "df.iloc[[[449,536]],[2]] = 'Mr'\n",
    "df.iloc[[[641,710]],[2]] = 'Miss'\n",
    "df.iloc[[[647,694,1022,1093]],[2]] = 'Mr'\n",
    "df.iloc[[[245,317,398,632,660,766,796,1184]],[2]] = 'Mr'\n",
    "df.iloc[[[149,150,249,626,848,886,1040,1055]],[2]] = 'Mr'"
   ]
  },
  {
   "cell_type": "code",
   "execution_count": 51,
   "metadata": {},
   "outputs": [
    {
     "data": {
      "text/plain": [
       "Mr        782\n",
       "Miss      267\n",
       "Mrs       198\n",
       "Master     62\n",
       "Name: Name, dtype: int64"
      ]
     },
     "execution_count": 51,
     "metadata": {},
     "output_type": "execute_result"
    }
   ],
   "source": [
    "df['Name'].value_counts()"
   ]
  },
  {
   "cell_type": "code",
   "execution_count": 52,
   "metadata": {},
   "outputs": [
    {
     "name": "stdout",
     "output_type": "stream",
     "text": [
      "<class 'pandas.core.frame.DataFrame'>\n",
      "RangeIndex: 1309 entries, 0 to 1308\n",
      "Data columns (total 57 columns):\n",
      " #   Column      Non-Null Count  Dtype  \n",
      "---  ------      --------------  -----  \n",
      " 0   Survived    891 non-null    float64\n",
      " 1   Pclass      1309 non-null   int64  \n",
      " 2   Name        1309 non-null   object \n",
      " 3   Sex         1309 non-null   int64  \n",
      " 4   Age         1309 non-null   float64\n",
      " 5   SibSp       1309 non-null   int64  \n",
      " 6   Parch       1309 non-null   int64  \n",
      " 7   Fare        1309 non-null   float64\n",
      " 8   Cabin_A     1309 non-null   uint8  \n",
      " 9   Cabin_B     1309 non-null   uint8  \n",
      " 10  Cabin_C     1309 non-null   uint8  \n",
      " 11  Cabin_D     1309 non-null   uint8  \n",
      " 12  Cabin_E     1309 non-null   uint8  \n",
      " 13  Cabin_F     1309 non-null   uint8  \n",
      " 14  Cabin_G     1309 non-null   uint8  \n",
      " 15  Cabin_T     1309 non-null   uint8  \n",
      " 16  Cabin_X     1309 non-null   uint8  \n",
      " 17  Embarked_C  1309 non-null   uint8  \n",
      " 18  Embarked_Q  1309 non-null   uint8  \n",
      " 19  Embarked_S  1309 non-null   uint8  \n",
      " 20  T_A         1309 non-null   uint8  \n",
      " 21  T_A4        1309 non-null   uint8  \n",
      " 22  T_A5        1309 non-null   uint8  \n",
      " 23  T_AQ3       1309 non-null   uint8  \n",
      " 24  T_AQ4       1309 non-null   uint8  \n",
      " 25  T_AS        1309 non-null   uint8  \n",
      " 26  T_C         1309 non-null   uint8  \n",
      " 27  T_CA        1309 non-null   uint8  \n",
      " 28  T_CASOTON   1309 non-null   uint8  \n",
      " 29  T_FC        1309 non-null   uint8  \n",
      " 30  T_FCC       1309 non-null   uint8  \n",
      " 31  T_Fa        1309 non-null   uint8  \n",
      " 32  T_LINE      1309 non-null   uint8  \n",
      " 33  T_LP        1309 non-null   uint8  \n",
      " 34  T_PC        1309 non-null   uint8  \n",
      " 35  T_PP        1309 non-null   uint8  \n",
      " 36  T_PPP       1309 non-null   uint8  \n",
      " 37  T_SC        1309 non-null   uint8  \n",
      " 38  T_SCA3      1309 non-null   uint8  \n",
      " 39  T_SCA4      1309 non-null   uint8  \n",
      " 40  T_SCAH      1309 non-null   uint8  \n",
      " 41  T_SCOW      1309 non-null   uint8  \n",
      " 42  T_SCPARIS   1309 non-null   uint8  \n",
      " 43  T_SCParis   1309 non-null   uint8  \n",
      " 44  T_SOC       1309 non-null   uint8  \n",
      " 45  T_SOP       1309 non-null   uint8  \n",
      " 46  T_SOPP      1309 non-null   uint8  \n",
      " 47  T_SOTONO2   1309 non-null   uint8  \n",
      " 48  T_SOTONOQ   1309 non-null   uint8  \n",
      " 49  T_SP        1309 non-null   uint8  \n",
      " 50  T_STONO     1309 non-null   uint8  \n",
      " 51  T_STONO2    1309 non-null   uint8  \n",
      " 52  T_STONOQ    1309 non-null   uint8  \n",
      " 53  T_SWPP      1309 non-null   uint8  \n",
      " 54  T_WC        1309 non-null   uint8  \n",
      " 55  T_WEP       1309 non-null   uint8  \n",
      " 56  T_X         1309 non-null   uint8  \n",
      "dtypes: float64(3), int64(4), object(1), uint8(49)\n",
      "memory usage: 144.6+ KB\n"
     ]
    }
   ],
   "source": [
    "df.info()"
   ]
  },
  {
   "cell_type": "code",
   "execution_count": 53,
   "metadata": {},
   "outputs": [],
   "source": [
    "df = pd.get_dummies(df, columns = ['Name'], prefix = 'Name' )"
   ]
  },
  {
   "cell_type": "code",
   "execution_count": 54,
   "metadata": {},
   "outputs": [
    {
     "data": {
      "text/plain": [
       "418"
      ]
     },
     "execution_count": 54,
     "metadata": {},
     "output_type": "execute_result"
    }
   ],
   "source": [
    "df.isnull().sum().sum()"
   ]
  },
  {
   "cell_type": "code",
   "execution_count": 55,
   "metadata": {},
   "outputs": [
    {
     "data": {
      "text/plain": [
       "Survived    418\n",
       "dtype: int64"
      ]
     },
     "execution_count": 55,
     "metadata": {},
     "output_type": "execute_result"
    }
   ],
   "source": [
    "df[df.columns[df.isnull().any()]].isnull().sum().sort_values(ascending = False)"
   ]
  },
  {
   "cell_type": "code",
   "execution_count": 56,
   "metadata": {},
   "outputs": [],
   "source": [
    "Kfold = StratifiedKFold(n_splits = 10)"
   ]
  },
  {
   "cell_type": "code",
   "execution_count": 57,
   "metadata": {},
   "outputs": [],
   "source": [
    "train = df[:n_train]\n",
    "test = df[n_train:]\n",
    "test.drop('Survived', axis = 1, inplace = True)"
   ]
  },
  {
   "cell_type": "code",
   "execution_count": 58,
   "metadata": {},
   "outputs": [],
   "source": [
    "train['Survived'] = train['Survived'].astype(int)\n",
    "Y_train = train['Survived']\n",
    "X_train = train.drop(\"Survived\",axis = 1)\n"
   ]
  },
  {
   "cell_type": "markdown",
   "metadata": {},
   "source": [
    "##### Baseline models"
   ]
  },
  {
   "cell_type": "code",
   "execution_count": 59,
   "metadata": {},
   "outputs": [],
   "source": [
    "random_state = 2022\n",
    "classifiers = []\n",
    "classifiers.append(SVC(random_state=random_state))\n",
    "classifiers.append(DecisionTreeClassifier(random_state=random_state))\n",
    "classifiers.append(AdaBoostClassifier(DecisionTreeClassifier(random_state=random_state),random_state=random_state,learning_rate=0.1))\n",
    "classifiers.append(RandomForestClassifier(random_state=random_state))\n",
    "classifiers.append(ExtraTreeClassifier(random_state=random_state))\n",
    "classifiers.append(GradientBoostingClassifier(random_state=random_state))\n",
    "classifiers.append(MLPClassifier(random_state=random_state))\n",
    "classifiers.append(KNeighborsClassifier())\n",
    "classifiers.append(LogisticRegression(random_state = random_state))\n",
    "classifiers.append(LinearDiscriminantAnalysis())\n",
    "\n",
    "cv_results = []\n",
    "for classifier in classifiers:\n",
    "    cv_results.append(cross_val_score(classifier, X_train , y = Y_train, scoring= 'accuracy', cv = Kfold, n_jobs = 2))\n",
    "\n",
    "cv_means = []\n",
    "cv_std = []\n",
    "\n",
    "for cv_result in cv_results:\n",
    "    cv_means.append(cv_result.mean())\n",
    "    cv_std.append(cv_result.std())\n",
    "\n",
    "cv_res = pd.DataFrame({\"CrossValMeans\":cv_means,\"CrossValerrors\": cv_std,\"Algorithm\":[\"SVC\",\"DecisionTree\",\"AdaBoost\",\n",
    "\"RandomForest\",\"ExtraTrees\",\"GradientBoosting\",\"MultipleLayerPerceptron\",\"KNeighboors\",\"LogisticRegression\",\"LinearDiscriminantAnalysis\"]})"
   ]
  },
  {
   "cell_type": "code",
   "execution_count": 61,
   "metadata": {},
   "outputs": [
    {
     "data": {
      "text/html": [
       "<div>\n",
       "<style scoped>\n",
       "    .dataframe tbody tr th:only-of-type {\n",
       "        vertical-align: middle;\n",
       "    }\n",
       "\n",
       "    .dataframe tbody tr th {\n",
       "        vertical-align: top;\n",
       "    }\n",
       "\n",
       "    .dataframe thead th {\n",
       "        text-align: right;\n",
       "    }\n",
       "</style>\n",
       "<table border=\"1\" class=\"dataframe\">\n",
       "  <thead>\n",
       "    <tr style=\"text-align: right;\">\n",
       "      <th></th>\n",
       "      <th>CrossValMeans</th>\n",
       "      <th>CrossValerrors</th>\n",
       "      <th>Algorithm</th>\n",
       "    </tr>\n",
       "  </thead>\n",
       "  <tbody>\n",
       "    <tr>\n",
       "      <th>5</th>\n",
       "      <td>0.836180</td>\n",
       "      <td>0.031596</td>\n",
       "      <td>GradientBoosting</td>\n",
       "    </tr>\n",
       "    <tr>\n",
       "      <th>8</th>\n",
       "      <td>0.831660</td>\n",
       "      <td>0.028794</td>\n",
       "      <td>LogisticRegression</td>\n",
       "    </tr>\n",
       "    <tr>\n",
       "      <th>9</th>\n",
       "      <td>0.822697</td>\n",
       "      <td>0.035665</td>\n",
       "      <td>LinearDiscriminantAnalysis</td>\n",
       "    </tr>\n",
       "    <tr>\n",
       "      <th>6</th>\n",
       "      <td>0.814806</td>\n",
       "      <td>0.040622</td>\n",
       "      <td>MultipleLayerPerceptron</td>\n",
       "    </tr>\n",
       "    <tr>\n",
       "      <th>2</th>\n",
       "      <td>0.811498</td>\n",
       "      <td>0.041083</td>\n",
       "      <td>AdaBoost</td>\n",
       "    </tr>\n",
       "    <tr>\n",
       "      <th>3</th>\n",
       "      <td>0.809213</td>\n",
       "      <td>0.045452</td>\n",
       "      <td>RandomForest</td>\n",
       "    </tr>\n",
       "    <tr>\n",
       "      <th>1</th>\n",
       "      <td>0.794669</td>\n",
       "      <td>0.047372</td>\n",
       "      <td>DecisionTree</td>\n",
       "    </tr>\n",
       "    <tr>\n",
       "      <th>4</th>\n",
       "      <td>0.777840</td>\n",
       "      <td>0.045053</td>\n",
       "      <td>ExtraTrees</td>\n",
       "    </tr>\n",
       "    <tr>\n",
       "      <th>7</th>\n",
       "      <td>0.723945</td>\n",
       "      <td>0.031854</td>\n",
       "      <td>KNeighboors</td>\n",
       "    </tr>\n",
       "    <tr>\n",
       "      <th>0</th>\n",
       "      <td>0.674607</td>\n",
       "      <td>0.048788</td>\n",
       "      <td>SVC</td>\n",
       "    </tr>\n",
       "  </tbody>\n",
       "</table>\n",
       "</div>"
      ],
      "text/plain": [
       "   CrossValMeans  CrossValerrors                   Algorithm\n",
       "5       0.836180        0.031596            GradientBoosting\n",
       "8       0.831660        0.028794          LogisticRegression\n",
       "9       0.822697        0.035665  LinearDiscriminantAnalysis\n",
       "6       0.814806        0.040622     MultipleLayerPerceptron\n",
       "2       0.811498        0.041083                    AdaBoost\n",
       "3       0.809213        0.045452                RandomForest\n",
       "1       0.794669        0.047372                DecisionTree\n",
       "4       0.777840        0.045053                  ExtraTrees\n",
       "7       0.723945        0.031854                 KNeighboors\n",
       "0       0.674607        0.048788                         SVC"
      ]
     },
     "execution_count": 61,
     "metadata": {},
     "output_type": "execute_result"
    }
   ],
   "source": [
    "#Before log1p ['Fare', 'SibSp', 'Parch']\n",
    "cv_res.sort_values(by = 'CrossValMeans', ascending = False)"
   ]
  },
  {
   "cell_type": "code",
   "execution_count": 61,
   "metadata": {},
   "outputs": [
    {
     "data": {
      "image/png": "[encoded data removed]",
      "text/plain": [
       "<Figure size 842.4x595.44 with 1 Axes>"
      ]
     },
     "metadata": {},
     "output_type": "display_data"
    }
   ],
   "source": [
    "g = sns.barplot(\"CrossValMeans\",\"Algorithm\",data = cv_res, palette=\"Set3\",orient = \"h\",**{'xerr':cv_std})\n",
    "g.set_xlabel(\"Mean Accuracy\")\n",
    "g = g.set_title(\"Cross validation scores\")"
   ]
  },
  {
   "cell_type": "markdown",
   "metadata": {},
   "source": [
    "##### Optimization"
   ]
  },
  {
   "cell_type": "code",
   "execution_count": 71,
   "metadata": {},
   "outputs": [
    {
     "name": "stdout",
     "output_type": "stream",
     "text": [
      "Fitting 10 folds for each of 600 candidates, totalling 6000 fits\n"
     ]
    },
    {
     "data": {
      "text/plain": [
       "0.8474282147315855"
      ]
     },
     "execution_count": 71,
     "metadata": {},
     "output_type": "execute_result"
    }
   ],
   "source": [
    "GBC = GradientBoostingClassifier()\n",
    "gbc_param_grid = {'loss': [\"deviance\"],\n",
    "                'n_estimators' : [100, 200, 300],\n",
    "                'learning_rate' : [0.1, 0.2, 0.3, 0.4, 0.5, 0.6, 0.7, 0.8, 0.9, 1.0],\n",
    "                'max_depth': [5, 10],\n",
    "                'min_samples_leaf': [100,150],\n",
    "                'max_features': [0.1, 0.2, 0.3, 0.4, 0.5]}\n",
    "GBC_grid = GridSearchCV(GBC, param_grid= gbc_param_grid, cv = Kfold, n_jobs=-1, verbose = True)\n",
    "\n",
    "GBC_grid.fit(X_train,Y_train)\n",
    "\n",
    "GBC_best = GBC_grid.best_estimator_\n",
    "\n",
    "GBC_grid.best_score_\n"
   ]
  },
  {
   "cell_type": "code",
   "execution_count": 73,
   "metadata": {},
   "outputs": [
    {
     "data": {
      "text/plain": [
       "{'learning_rate': 0.6,\n",
       " 'loss': 'deviance',\n",
       " 'max_depth': 10,\n",
       " 'max_features': 0.2,\n",
       " 'min_samples_leaf': 100,\n",
       " 'n_estimators': 200}"
      ]
     },
     "execution_count": 73,
     "metadata": {},
     "output_type": "execute_result"
    }
   ],
   "source": [
    "GBC_grid.best_params_"
   ]
  },
  {
   "cell_type": "code",
   "execution_count": 59,
   "metadata": {},
   "outputs": [
    {
     "name": "stderr",
     "output_type": "stream",
     "text": [
      "[Parallel(n_jobs=-1)]: Using backend LokyBackend with 12 concurrent workers.\n",
      "[Parallel(n_jobs=-1)]: Done  10 out of  10 | elapsed:    1.8s finished\n"
     ]
    },
    {
     "data": {
      "text/plain": [
       "0.8361797752808988"
      ]
     },
     "execution_count": 59,
     "metadata": {},
     "output_type": "execute_result"
    }
   ],
   "source": [
    "GBC_tuned = GradientBoostingClassifier(learning_rate=0.6, loss='deviance', max_depth=10, max_features=0.2, min_samples_leaf=100, n_estimators=200)\n",
    "cross_val_score(GBC_tuned, X = X_train, y = Y_train, cv=Kfold, scoring = 'accuracy', n_jobs = -1, verbose = True).mean()"
   ]
  },
  {
   "cell_type": "code",
   "execution_count": 81,
   "metadata": {},
   "outputs": [
    {
     "name": "stdout",
     "output_type": "stream",
     "text": [
      "Fitting 10 folds for each of 30 candidates, totalling 300 fits\n"
     ]
    },
    {
     "data": {
      "text/plain": [
       "(0.8327840199750313, {'C': 10, 'penalty': 'l2', 'solver': 'lbfgs'})"
      ]
     },
     "execution_count": 81,
     "metadata": {},
     "output_type": "execute_result"
    }
   ],
   "source": [
    "Logistic = LogisticRegression()\n",
    "logistic_param_grid = {'solver' : ['newton-cg', 'lbfgs', 'liblinear'],\n",
    "                        'penalty': ['l1', 'l2'],\n",
    "                        'C': [100, 10, 1.0, 0.1, 0.01]}\n",
    "logistic_grid = GridSearchCV(Logistic, param_grid = logistic_param_grid, cv = Kfold, n_jobs = -1, verbose = True)\n",
    "\n",
    "logistic_grid.fit(X_train, Y_train)\n",
    "\n",
    "logistic_best = logistic_grid.best_estimator_\n",
    "\n",
    "logistic_grid.best_score_, logistic_grid.best_params_"
   ]
  },
  {
   "cell_type": "code",
   "execution_count": 60,
   "metadata": {},
   "outputs": [
    {
     "name": "stderr",
     "output_type": "stream",
     "text": [
      "[Parallel(n_jobs=-1)]: Using backend LokyBackend with 12 concurrent workers.\n",
      "[Parallel(n_jobs=-1)]: Done  10 out of  10 | elapsed:    0.6s finished\n"
     ]
    },
    {
     "data": {
      "text/plain": [
       "0.8327840199750313"
      ]
     },
     "execution_count": 60,
     "metadata": {},
     "output_type": "execute_result"
    }
   ],
   "source": [
    "Logistic_tuned = LogisticRegression(C=10, penalty ='l2', solver = 'lbfgs', n_jobs=-1, verbose=True)\n",
    "cross_val_score(Logistic_tuned, X = X_train, y = Y_train, cv = Kfold, scoring = 'accuracy', n_jobs = -1, verbose = True).mean()"
   ]
  },
  {
   "cell_type": "code",
   "execution_count": 146,
   "metadata": {},
   "outputs": [
    {
     "name": "stdout",
     "output_type": "stream",
     "text": [
      "Fitting 10 folds for each of 300 candidates, totalling 3000 fits\n"
     ]
    },
    {
     "data": {
      "text/plain": [
       "(0.8226966292134831, LinearDiscriminantAnalysis(shrinkage=0.0, solver='lsqr'))"
      ]
     },
     "execution_count": 146,
     "metadata": {},
     "output_type": "execute_result"
    }
   ],
   "source": [
    "LDA = LinearDiscriminantAnalysis()\n",
    "LDA_pram_grid = {'solver' : ['svd', 'lsqr', 'eigen'],\n",
    "                  'shrinkage' : [i for i in np.arange(0,1,0.01)]}\n",
    "\n",
    "LDA_grid = GridSearchCV(LDA, param_grid = LDA_pram_grid, cv = Kfold, n_jobs = -1, verbose = True)\n",
    "\n",
    "LDA_grid.fit(X_train, Y_train)\n",
    "\n",
    "LDA_best = LDA_grid.best_params_\n",
    "\n",
    "LDA_grid.best_score_, LDA_grid.best_estimator_"
   ]
  },
  {
   "cell_type": "code",
   "execution_count": 61,
   "metadata": {},
   "outputs": [
    {
     "name": "stderr",
     "output_type": "stream",
     "text": [
      "[Parallel(n_jobs=-1)]: Using backend LokyBackend with 12 concurrent workers.\n",
      "[Parallel(n_jobs=-1)]: Done  10 out of  10 | elapsed:    0.0s finished\n"
     ]
    },
    {
     "data": {
      "text/plain": [
       "0.8226966292134831"
      ]
     },
     "execution_count": 61,
     "metadata": {},
     "output_type": "execute_result"
    }
   ],
   "source": [
    "LDA_tuned = LinearDiscriminantAnalysis(shrinkage=0.0, solver='lsqr')\n",
    "cross_val_score(LDA_tuned, X = X_train, y = Y_train, cv = Kfold, n_jobs=-1, verbose=True).mean()"
   ]
  },
  {
   "cell_type": "code",
   "execution_count": 149,
   "metadata": {},
   "outputs": [
    {
     "name": "stdout",
     "output_type": "stream",
     "text": [
      "Fitting 10 folds for each of 144 candidates, totalling 1440 fits\n"
     ]
    },
    {
     "data": {
      "text/plain": [
       "(0.8305617977528088,\n",
       " MLPClassifier(alpha=0.1, learning_rate='adaptive', solver='lbfgs'))"
      ]
     },
     "execution_count": 149,
     "metadata": {},
     "output_type": "execute_result"
    }
   ],
   "source": [
    "MLP = MLPClassifier()\n",
    "\n",
    "MLP_param_grid = {\n",
    "                'activation': ['identity', 'logistic', 'tanh', 'relu'],\n",
    "                'solver': ['lbfgs', 'sgd', 'adam'],\n",
    "                'alpha': [0.0001, 0.001, 0.01, 0.1],\n",
    "                'learning_rate': ['constant', 'invscaling', 'adaptive']}\n",
    "MLP_grid = GridSearchCV(MLP, param_grid = MLP_param_grid, cv = Kfold, n_jobs = -1, verbose = True)\n",
    "\n",
    "MLP_grid.fit(X_train, Y_train)\n",
    "\n",
    "MLP_best = MLP_grid.best_params_\n",
    "\n",
    "MLP_grid.best_score_, MLP_grid.best_estimator_ "
   ]
  },
  {
   "cell_type": "code",
   "execution_count": 62,
   "metadata": {},
   "outputs": [
    {
     "name": "stderr",
     "output_type": "stream",
     "text": [
      "[Parallel(n_jobs=-1)]: Using backend LokyBackend with 12 concurrent workers.\n",
      "[Parallel(n_jobs=-1)]: Done  10 out of  10 | elapsed:    1.2s finished\n"
     ]
    },
    {
     "data": {
      "text/plain": [
       "0.8226841448189763"
      ]
     },
     "execution_count": 62,
     "metadata": {},
     "output_type": "execute_result"
    }
   ],
   "source": [
    "MLP_tuned = MLPClassifier(alpha = 0.1, learning_rate='adaptive', solver='lbfgs')\n",
    "cross_val_score(MLP_tuned, X = X_train, y = Y_train, cv = Kfold, n_jobs = -1, verbose = True).mean()"
   ]
  },
  {
   "cell_type": "code",
   "execution_count": 163,
   "metadata": {},
   "outputs": [
    {
     "name": "stdout",
     "output_type": "stream",
     "text": [
      "Fitting 10 folds for each of 720 candidates, totalling 7200 fits\n"
     ]
    },
    {
     "data": {
      "text/plain": [
       "(0.8305867665418228,\n",
       " AdaBoostClassifier(base_estimator=DecisionTreeClassifier(criterion='entropy'),\n",
       "                    learning_rate=0.7000000000000001, n_estimators=90,\n",
       "                    random_state=2022))"
      ]
     },
     "execution_count": 163,
     "metadata": {},
     "output_type": "execute_result"
    }
   ],
   "source": [
    "ADA = AdaBoostClassifier(DecisionTreeClassifier(), random_state=random_state)\n",
    "\n",
    "ADA_param_grid = {'base_estimator__criterion': ['gini', 'entropy', 'log_loss'],\n",
    "                'base_estimator__splitter' : ['best', 'random'], \n",
    "                'algorithm' : ['SAMME', 'SAMME.R'],\n",
    "                'n_estimators' : [50, 60, 70, 80, 90, 100],\n",
    "                'learning_rate' : [i for i in np.arange(0,1, 0.1)]}\n",
    "\n",
    "ADA_grid = GridSearchCV(ADA, param_grid = ADA_param_grid, cv = Kfold, n_jobs = -1, verbose = 3)\n",
    "\n",
    "ADA_grid.fit(X_train, Y_train)\n",
    "\n",
    "ADA_best = ADA_grid.best_params_\n",
    "\n",
    "ADA_grid.best_score_, ADA_grid.best_estimator_"
   ]
  },
  {
   "cell_type": "code",
   "execution_count": 65,
   "metadata": {},
   "outputs": [
    {
     "name": "stderr",
     "output_type": "stream",
     "text": [
      "[Parallel(n_jobs=-1)]: Using backend LokyBackend with 12 concurrent workers.\n",
      "[Parallel(n_jobs=-1)]: Done  10 out of  10 | elapsed:    0.5s finished\n"
     ]
    },
    {
     "data": {
      "text/plain": [
       "0.8305867665418228"
      ]
     },
     "execution_count": 65,
     "metadata": {},
     "output_type": "execute_result"
    }
   ],
   "source": [
    "random_state = 2022\n",
    "ADA_tuned = AdaBoostClassifier(DecisionTreeClassifier(criterion = 'entropy',splitter = 'best'),algorithm = 'SAMME.R', learning_rate = 0.7000000000000001, n_estimators = 90, random_state=random_state)\n",
    "cross_val_score(ADA_tuned, X = X_train , y = Y_train, cv = Kfold, n_jobs=-1, verbose=True).mean()"
   ]
  },
  {
   "cell_type": "markdown",
   "metadata": {},
   "source": [
    "### 5.Results"
   ]
  },
  {
   "cell_type": "markdown",
   "metadata": {},
   "source": [
    "#### Voting classifier"
   ]
  },
  {
   "cell_type": "code",
   "execution_count": 66,
   "metadata": {},
   "outputs": [
    {
     "name": "stderr",
     "output_type": "stream",
     "text": [
      "[Parallel(n_jobs=-1)]: Using backend LokyBackend with 12 concurrent workers.\n",
      "[Parallel(n_jobs=-1)]: Done  10 out of  10 | elapsed:    1.7s finished\n"
     ]
    },
    {
     "name": "stdout",
     "output_type": "stream",
     "text": [
      ":Soft Voting score mean: 84.40\n",
      ":Soft Voting score std: 0.00\n",
      "----------\n"
     ]
    },
    {
     "name": "stderr",
     "output_type": "stream",
     "text": [
      "[Parallel(n_jobs=-1)]: Using backend LokyBackend with 12 concurrent workers.\n",
      "[Parallel(n_jobs=-1)]: Done  10 out of  10 | elapsed:    1.7s finished\n"
     ]
    },
    {
     "name": "stdout",
     "output_type": "stream",
     "text": [
      ":Soft Hard score mean: 84.40\n",
      ":Soft Hard score std: 0.00\n",
      "----------\n"
     ]
    }
   ],
   "source": [
    "voting_soft = VotingClassifier(estimators=[('gbc', GBC_tuned), ('logistic',Logistic_tuned),('lda',LDA_tuned), ('mlp', MLP_tuned), ('ada', ADA_tuned)],\n",
    "voting = 'soft',n_jobs = -1)\n",
    "voting_soft_cv = cross_val_score(voting_soft, X = X_train , y = Y_train, cv = Kfold, n_jobs=-1, verbose=True).mean()\n",
    "voting_soft.fit(X_train, Y_train)\n",
    "print(\":Soft Voting score mean: {:.2f}\". format(voting_soft_cv.mean() * 100))\n",
    "print(\":Soft Voting score std: {:.2f}\". format(voting_soft_cv.std() * 100))\n",
    "print('-'*10)\n",
    "\n",
    "voting_hard = VotingClassifier(estimators=[('gbc', GBC_tuned), ('logistic',Logistic_tuned),('lda',LDA_tuned), ('mlp', MLP_tuned), ('ada', ADA_tuned)],\n",
    "voting = 'hard',n_jobs = -1)\n",
    "voting_hard_cv = cross_val_score(voting_hard, X = X_train , y = Y_train, cv = Kfold, n_jobs=-1, verbose=True).mean()\n",
    "voting_hard.fit(X_train, Y_train)\n",
    "print(\":Soft Hard score mean: {:.2f}\". format(voting_soft_cv.mean() * 100))\n",
    "print(\":Soft Hard score std: {:.2f}\". format(voting_soft_cv.std() * 100))\n",
    "print('-'*10)"
   ]
  },
  {
   "cell_type": "code",
   "execution_count": 68,
   "metadata": {},
   "outputs": [],
   "source": [
    "test_Survived = pd.Series(voting_soft.predict(test), name = \"Survived\")\n",
    "result = pd.concat([test_ID, test_Survived], axis = 1)\n",
    "result.to_csv(\"C:/kaggle projects/Titanic - Machine Learning from Disaster/ensemble_python_voting.csv\",index=False)"
   ]
  }
 ],
 "metadata": {
  "kernelspec": {
   "display_name": "Python 3.9.7 ('base')",
   "language": "python",
   "name": "python3"
  },
  "language_info": {
   "codemirror_mode": {
    "name": "ipython",
    "version": 3
   },
   "file_extension": ".py",
   "mimetype": "text/x-python",
   "name": "python",
   "nbconvert_exporter": "python",
   "pygments_lexer": "ipython3",
   "version": "3.9.7"
  },
  "orig_nbformat": 4,
  "vscode": {
   "interpreter": {
    "hash": "8ac3934a5480279f648bdcc99a1052463c414f2bd999f66b3c43c85ab81cecf7"
   }
  }
 },
 "nbformat": 4,
 "nbformat_minor": 2
}
